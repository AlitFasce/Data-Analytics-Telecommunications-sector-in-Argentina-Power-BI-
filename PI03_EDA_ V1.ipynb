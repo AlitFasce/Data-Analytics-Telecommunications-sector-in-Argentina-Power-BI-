{
 "cells": [
  {
   "attachments": {},
   "cell_type": "markdown",
   "metadata": {},
   "source": [
    "## EDA _PI03\n",
    "\n",
    "Dado que el objetivo del PI 03 es realizar un análisis completo que permita reconocer el comportamiento del sector telecomunicaciones en Argentina y que deben definirse 3 KPI, además del propuesto: \"Evaluar el aumento o disminución de la variación porcentual trimestral del servicio de internet, cada 100 hogares por provincia\".\n",
    "\n",
    "Se analizan las siguientes tablas propuestas como material de base y se seleccionan 9 según se explica_ ver debajo el EDA. \n",
    "\n",
    "Las tablas 13, 14 y 15 se sumarán únicamente si se dispone del tiempo, ya que se requiere de una limpieza y homogenización de los datos para poder utilizarlas. Además, las mismas implican un análisis más detallado, si se lo compara con el análisis por provincia.\n",
    "\n",
    "_________________________________________________________________________________\n"
   ]
  },
  {
   "attachments": {},
   "cell_type": "markdown",
   "metadata": {},
   "source": [
    "## Analisis tabla a tabla"
   ]
  },
  {
   "attachments": {},
   "cell_type": "markdown",
   "metadata": {},
   "source": [
    "tabla 1=Internet_Penetracion \n",
    "\n",
    "- Se selecciona porque está vinculada al KPI propuesto\n",
    "\n",
    "tabla 2=Penetración por hogares nacional de Internet fijo\n",
    "\n",
    "- No se elije para la tabla de tendencias, pero será construida a partir de la información de la tabla 1\n",
    "\n",
    "tabla 3=Total nacional de accesos a Internet fijo por banda ancha y banda angosta (BAF)\n",
    "\n",
    "- No se selecciona porque es más abarcativa la tabla 04 \n",
    "\n",
    "tabla 4=Accesos a banda ancha y banda angosta por provincia (BAF_prov)\n",
    "\n",
    "- Se selecciona porque contiene información de bandas discriminado por provincia\n",
    "\n",
    "tabla 5=Serie trimestral de accesos a Internet fijo por tecnología\n",
    "\n",
    "- No se selecciona. Se realizará el mismo grafico para analisis de tendencias - pero con los datos de la tabla 6\n",
    "\n",
    "tabla 6=Acceso a Internet fijo por tecnología y provincia\n",
    "\n",
    "- Se selecciona porque contiene información de tecnologías discriminado por provincia. \n",
    "\n",
    "tabla 7=Velocidad Media de bajada de Internet fijo\n",
    "\n",
    "- No se selecciona. Se realizará el mismo grafico para analisis de tendencias - pero con los datos de la tabla 8\n",
    "\n",
    "tabla 8=Velocidad media de bajada de Internet fijo por provincia\n",
    "\n",
    "- Se selecciona porque contiene información de tecnología discriminado por provincia\n",
    "\n",
    "tabla 9=Distribución de los accesos totales nacionales a Internet fijo por velocidad\n",
    "\n",
    "- No se selecciona. Se realizará el mismo grafico para analisis de tendencias - pero con los datos de la tabla 10\n",
    "\n",
    "tabla 10=Acceso a Internet Fijo por rangos de velocidad de bajada y provincia\n",
    "\n",
    "- Se selecciona porque contiene información de velocidad discriminado por provincia \n",
    "\n",
    "tabla 11=Accesos a Internet fijo por velocidad bajada y provincia\n",
    "\n",
    "- es equivalente a la 10\n",
    "\n",
    "tabla 12= Ingresos trimestrales por la prestación del servicio de Internet fijo\n",
    "\n",
    "*** en base a los gráficos, se analizará la provincia de oportunidad a definir y luego entraremos en localidad ***\n",
    "\n",
    "\n",
    "tabla 13=Accesos a Internet fijo por velocidad de bajada y localidad\n",
    "\n",
    "tabla 14=Accesos a Internet fijo por tecnología y localidad\n",
    "\n",
    "tabla 15=Listado de localidades con conectividad a internet\n",
    "\n",
    "- esta tabla podría servir como tabla auxiliar\n",
    "\n",
    "tabla 16= Conectividad al servicio de Internet\n",
    "\n",
    "- se analizó el mapa"
   ]
  },
  {
   "attachments": {},
   "cell_type": "markdown",
   "metadata": {},
   "source": [
    "_________________________________________________________________________________\n",
    "Como estratégia se decidió realizar el analisis de EDA: \n",
    "\n",
    " 1- Primero general usando una formula\n",
    "\n",
    " 2- Luego en detalle con graficos utilizando otra\n",
    "\n",
    " 3- Se migrarán a Power BI unicamente las tablas seleccionadas\n",
    "\n",
    " 4- Solo se limpiarán las columnas de las tablas relevantes que serán utilizadas\n",
    " "
   ]
  },
  {
   "attachments": {},
   "cell_type": "markdown",
   "metadata": {},
   "source": [
    "Importo las librerias"
   ]
  },
  {
   "cell_type": "code",
   "execution_count": 1,
   "metadata": {},
   "outputs": [],
   "source": [
    "import pandas as pd\n",
    "import seaborn as sns\n",
    "import matplotlib as plt\n",
    "import numpy as np\n",
    "import matplotlib.pyplot as plt2\n",
    "from scipy import stats\n",
    "from scipy.stats import poisson"
   ]
  },
  {
   "attachments": {},
   "cell_type": "markdown",
   "metadata": {},
   "source": [
    "Creo una funcion para decidir que tablas siven: \n",
    "- abro el csv como un dataframe de Pandas\n",
    "- solicito una muestra para analizar si hay errores de tipeo y ver tipos de datos.\n",
    "- solicito ver tipo de datos\n",
    "- pido información para ver si hay o no nulos"
   ]
  },
  {
   "cell_type": "code",
   "execution_count": 2,
   "metadata": {},
   "outputs": [],
   "source": [
    "url_1='Datasets\\\\Internet_Penetracion_df1.csv'\n",
    "url_2='Datasets\\\\Internet_Penetracion_df2.csv'\n",
    "url_3='Datasets\\\\Internet_BAF_df3.csv'\n",
    "url_4='Datasets\\\\Internet_BAF_prov_df4.csv'\n",
    "url_5='Datasets\\\\Internet_Accesos-por-tecnologia_df5.csv'\n",
    "url_6='Datasets\\\\Internet_Accesos-por-tecnologia_df6.csv'\n",
    "url_7='Datasets\\\\Internet_Accesos-por-tecnologia_df7.csv'\n",
    "url_8='Datasets\\\\Internet_Accesos-por-tecnologia_df8.csv'\n",
    "url_9='Datasets\\\\Internet_Accesos-por-velocidad_df9.csv'\n",
    "url_10='Datasets\\\\Internet_Accesos-por-velocidad_df10.csv'\n",
    "url_11='Datasets\\\\AccesosaInternetfijoporvelocidadbajadayprovincia_df11.csv'\n",
    "url_12='Datasets\\\\Internet_Ingresos_df12.csv'\n",
    "url_13='Datasets\\\\AccesosaInternetfijoporvelocidaddebajadaylocalidad_df13.csv'\n",
    "url_14='Datasets\\\\AccesosaInternetfijoportecnologiaylocalidad_df14.csv'\n",
    "url_15='Datasets\\\\Listadodelocalidadesconconectividadainternet_df15.csv'\n",
    "url_16='Datasets\\\\ConectividadalserviciodeInternet_df16.csv'"
   ]
  },
  {
   "cell_type": "code",
   "execution_count": 3,
   "metadata": {},
   "outputs": [],
   "source": [
    "def eda_general(url):\n",
    "\n",
    "    df=pd.read_csv(url, decimal=',')\n",
    "\n",
    "    if type(df)!='array':\n",
    "        return df.head(5), df.dtypes, df.info(), df.describe(),df.sample(5) "
   ]
  },
  {
   "cell_type": "code",
   "execution_count": 4,
   "metadata": {},
   "outputs": [],
   "source": [
    "def eda_duplicados(url):\n",
    "\n",
    "    df=pd.read_csv(url, decimal=',')\n",
    "    df2=df.drop_duplicates()\n",
    "    m=df.shape\n",
    "    n=df2.shape\n",
    "    o=df.size\n",
    "    p=df2.size\n",
    "    if o==p and m==n:\n",
    "        return 'No hay duplicados'\n",
    "    else: \n",
    "        return 'hay un total de', (o-p), 'datos y un total de registros duplicados de', (m[0]-n[0])"
   ]
  },
  {
   "cell_type": "code",
   "execution_count": 5,
   "metadata": {},
   "outputs": [
    {
     "data": {
      "text/plain": [
       "'No hay duplicados'"
      ]
     },
     "execution_count": 5,
     "metadata": {},
     "output_type": "execute_result"
    }
   ],
   "source": [
    "eda_duplicados(url_1)"
   ]
  },
  {
   "cell_type": "code",
   "execution_count": 6,
   "metadata": {},
   "outputs": [
    {
     "name": "stdout",
     "output_type": "stream",
     "text": [
      "<class 'pandas.core.frame.DataFrame'>\n",
      "RangeIndex: 792 entries, 0 to 791\n",
      "Data columns (total 4 columns):\n",
      " #   Column                        Non-Null Count  Dtype  \n",
      "---  ------                        --------------  -----  \n",
      " 0   Año                           792 non-null    int64  \n",
      " 1   Trimestre                     792 non-null    int64  \n",
      " 2   Provincia                     792 non-null    object \n",
      " 3   Accesos por cada 100 hogares  792 non-null    float64\n",
      "dtypes: float64(1), int64(2), object(1)\n",
      "memory usage: 24.9+ KB\n"
     ]
    },
    {
     "data": {
      "text/plain": [
       "(    Año  Trimestre        Provincia  Accesos por cada 100 hogares\n",
       " 0  2022          1     Buenos Aires                         76.08\n",
       " 1  2022          1  Capital Federal                        111.80\n",
       " 2  2022          1        Catamarca                         58.21\n",
       " 3  2022          1            Chaco                         44.06\n",
       " 4  2022          1           Chubut                         88.05,\n",
       " Año                               int64\n",
       " Trimestre                         int64\n",
       " Provincia                        object\n",
       " Accesos por cada 100 hogares    float64\n",
       " dtype: object,\n",
       " None,\n",
       "                Año   Trimestre  Accesos por cada 100 hogares\n",
       " count   792.000000  792.000000                    792.000000\n",
       " mean   2017.636364    2.454545                     47.907184\n",
       " std       2.386030    1.131306                     22.810661\n",
       " min    2014.000000    1.000000                      9.350000\n",
       " 25%    2016.000000    1.000000                     31.540000\n",
       " 50%    2018.000000    2.000000                     44.625000\n",
       " 75%    2020.000000    3.000000                     60.575000\n",
       " max    2022.000000    4.000000                    124.060000,\n",
       "       Año  Trimestre         Provincia  Accesos por cada 100 hogares\n",
       " 568  2016          2             Salta                         32.08\n",
       " 790  2014          1  Tierra Del Fuego                         63.97\n",
       " 563  2016          2          La Rioja                         16.88\n",
       " 595  2016          1        Santa Cruz                         26.87\n",
       " 702  2014          4        Corrientes                         23.56)"
      ]
     },
     "execution_count": 6,
     "metadata": {},
     "output_type": "execute_result"
    }
   ],
   "source": [
    "eda_general(url_1)"
   ]
  },
  {
   "attachments": {},
   "cell_type": "markdown",
   "metadata": {},
   "source": [
    "### Tabla 1\n",
    "- No hay datos nulos\n",
    "- No hay duplicados\n",
    "- El type de las columnas es correcto\n",
    "\n",
    "-- SE SELECCIONA ---"
   ]
  },
  {
   "cell_type": "code",
   "execution_count": 7,
   "metadata": {},
   "outputs": [
    {
     "data": {
      "text/plain": [
       "'No hay duplicados'"
      ]
     },
     "execution_count": 7,
     "metadata": {},
     "output_type": "execute_result"
    }
   ],
   "source": [
    "eda_duplicados(url_2)"
   ]
  },
  {
   "cell_type": "code",
   "execution_count": 8,
   "metadata": {},
   "outputs": [
    {
     "name": "stdout",
     "output_type": "stream",
     "text": [
      "<class 'pandas.core.frame.DataFrame'>\n",
      "RangeIndex: 33 entries, 0 to 32\n",
      "Data columns (total 5 columns):\n",
      " #   Column                        Non-Null Count  Dtype  \n",
      "---  ------                        --------------  -----  \n",
      " 0   Año                           33 non-null     int64  \n",
      " 1   Trimestre                     33 non-null     int64  \n",
      " 2   Accesos por cada 100 hogares  33 non-null     float64\n",
      " 3   Accesos por cada 100 hab      33 non-null     float64\n",
      " 4   Periodo                       33 non-null     object \n",
      "dtypes: float64(2), int64(2), object(1)\n",
      "memory usage: 1.4+ KB\n"
     ]
    },
    {
     "data": {
      "text/plain": [
       "(    Año  Trimestre  Accesos por cada 100 hogares  Accesos por cada 100 hab  \\\n",
       " 0  2022          1                         73.88                     23.05   \n",
       " 1  2021          4                         73.18                     22.81   \n",
       " 2  2021          3                         70.58                     21.98   \n",
       " 3  2021          2                         69.24                     21.55   \n",
       " 4  2021          1                         67.95                     21.13   \n",
       " \n",
       "          Periodo  \n",
       " 0   Ene-Mar 2022  \n",
       " 1   Oct-Dic 2021  \n",
       " 2  Jul-Sept 2021  \n",
       " 3   Abr-Jun 2021  \n",
       " 4   Ene-Mar 2021  ,\n",
       " Año                               int64\n",
       " Trimestre                         int64\n",
       " Accesos por cada 100 hogares    float64\n",
       " Accesos por cada 100 hab        float64\n",
       " Periodo                          object\n",
       " dtype: object,\n",
       " None,\n",
       "                Año  Trimestre  Accesos por cada 100 hogares  \\\n",
       " count    33.000000  33.000000                     33.000000   \n",
       " mean   2017.636364   2.454545                     59.303939   \n",
       " std       2.421495   1.148121                      7.315430   \n",
       " min    2014.000000   1.000000                     49.550000   \n",
       " 25%    2016.000000   1.000000                     52.630000   \n",
       " 50%    2018.000000   2.000000                     58.820000   \n",
       " 75%    2020.000000   3.000000                     64.530000   \n",
       " max    2022.000000   4.000000                     73.880000   \n",
       " \n",
       "        Accesos por cada 100 hab  \n",
       " count                 33.000000  \n",
       " mean                  18.289394  \n",
       " std                    2.391968  \n",
       " min                   15.050000  \n",
       " 25%                   16.120000  \n",
       " 50%                   18.120000  \n",
       " 75%                   19.960000  \n",
       " max                   23.050000  ,\n",
       "      Año  Trimestre  Accesos por cada 100 hogares  Accesos por cada 100 hab  \\\n",
       " 2   2021          3                         70.58                     21.98   \n",
       " 26  2015          3                         52.46                     16.05   \n",
       " 10  2019          3                         65.79                     20.36   \n",
       " 29  2014          4                         50.50                     15.39   \n",
       " 4   2021          1                         67.95                     21.13   \n",
       " \n",
       "           Periodo  \n",
       " 2   Jul-Sept 2021  \n",
       " 26  Jul-Sept 2015  \n",
       " 10  Jul-Sept 2019  \n",
       " 29   Oct-Dic 2014  \n",
       " 4    Ene-Mar 2021  )"
      ]
     },
     "execution_count": 8,
     "metadata": {},
     "output_type": "execute_result"
    }
   ],
   "source": [
    "eda_general(url_2)"
   ]
  },
  {
   "attachments": {},
   "cell_type": "markdown",
   "metadata": {},
   "source": [
    "### Tabla 2\n",
    "- No hay datos nulos\n",
    "- No hay duplicados\n",
    "- El type de las columnas es \n",
    "\n",
    "-- NO SE SELECCIONA --"
   ]
  },
  {
   "cell_type": "code",
   "execution_count": 9,
   "metadata": {},
   "outputs": [
    {
     "data": {
      "text/plain": [
       "'No hay duplicados'"
      ]
     },
     "execution_count": 9,
     "metadata": {},
     "output_type": "execute_result"
    }
   ],
   "source": [
    "eda_duplicados(url_3)"
   ]
  },
  {
   "cell_type": "code",
   "execution_count": 10,
   "metadata": {},
   "outputs": [
    {
     "name": "stdout",
     "output_type": "stream",
     "text": [
      "<class 'pandas.core.frame.DataFrame'>\n",
      "RangeIndex: 33 entries, 0 to 32\n",
      "Data columns (total 6 columns):\n",
      " #   Column            Non-Null Count  Dtype \n",
      "---  ------            --------------  ----- \n",
      " 0   Año               33 non-null     int64 \n",
      " 1   Trimestre         33 non-null     int64 \n",
      " 2   Banda ancha fija  33 non-null     object\n",
      " 3   Dial up           33 non-null     object\n",
      " 4   Total             33 non-null     object\n",
      " 5   Periodo           33 non-null     object\n",
      "dtypes: int64(2), object(4)\n",
      "memory usage: 1.7+ KB\n"
     ]
    },
    {
     "data": {
      "text/plain": [
       "(    Año  Trimestre Banda ancha fija Dial up       Total        Periodo\n",
       " 0  2022          1       10.611.390  12.619  10.624.009   Ene-Mar 2022\n",
       " 1  2021          4       10.476.933  12.861  10.489.794   Oct-Dic 2021\n",
       " 2  2021          3       10.075.184  10.357  10.085.541  Jul-Sept 2021\n",
       " 3  2021          2        9.852.702  10.382   9.863.084   Abr-Jun 2021\n",
       " 4  2021          1        9.637.956  10.016   9.647.972   Ene-Mar 2021,\n",
       " Año                  int64\n",
       " Trimestre            int64\n",
       " Banda ancha fija    object\n",
       " Dial up             object\n",
       " Total               object\n",
       " Periodo             object\n",
       " dtype: object,\n",
       " None,\n",
       "                Año  Trimestre\n",
       " count    33.000000  33.000000\n",
       " mean   2017.636364   2.454545\n",
       " std       2.421495   1.148121\n",
       " min    2014.000000   1.000000\n",
       " 25%    2016.000000   1.000000\n",
       " 50%    2018.000000   2.000000\n",
       " 75%    2020.000000   3.000000\n",
       " max    2022.000000   4.000000,\n",
       "      Año  Trimestre Banda ancha fija Dial up      Total        Periodo\n",
       " 24  2016          1        6.874.704  32.652  6.907.356   Ene-Mar 2016\n",
       " 7   2020          2        9.021.040  10.016  9.031.056   Abr-Jun 2020\n",
       " 11  2019          2        8.938.427  21.754  8.960.181   Abr-Jun 2019\n",
       " 6   2020          3        9.346.183  10.016  9.356.199  Jul-Sept 2020\n",
       " 13  2018          4        8.451.841  21.814  8.473.655   Oct-Dic 2018)"
      ]
     },
     "execution_count": 10,
     "metadata": {},
     "output_type": "execute_result"
    }
   ],
   "source": [
    "eda_general(url_3)"
   ]
  },
  {
   "attachments": {},
   "cell_type": "markdown",
   "metadata": {},
   "source": [
    "### Tabla 3\n",
    "- No hay datos nulos\n",
    "- No hay duplicados\n",
    "- El type de las columnas NO es correcto varias de ellas\n",
    "\n",
    "-- NO SE SELECCIONA --"
   ]
  },
  {
   "cell_type": "code",
   "execution_count": 11,
   "metadata": {},
   "outputs": [
    {
     "data": {
      "text/plain": [
       "'No hay duplicados'"
      ]
     },
     "execution_count": 11,
     "metadata": {},
     "output_type": "execute_result"
    }
   ],
   "source": [
    "eda_duplicados(url_4)"
   ]
  },
  {
   "cell_type": "code",
   "execution_count": 12,
   "metadata": {},
   "outputs": [
    {
     "name": "stdout",
     "output_type": "stream",
     "text": [
      "<class 'pandas.core.frame.DataFrame'>\n",
      "RangeIndex: 792 entries, 0 to 791\n",
      "Data columns (total 6 columns):\n",
      " #   Column            Non-Null Count  Dtype \n",
      "---  ------            --------------  ----- \n",
      " 0   Año               792 non-null    int64 \n",
      " 1   Trimestre         792 non-null    int64 \n",
      " 2   Provincia         792 non-null    object\n",
      " 3   Banda ancha fija  792 non-null    object\n",
      " 4   Dial up           790 non-null    object\n",
      " 5   Total             792 non-null    object\n",
      "dtypes: int64(2), object(4)\n",
      "memory usage: 37.2+ KB\n"
     ]
    },
    {
     "data": {
      "text/plain": [
       "(    Año  Trimestre        Provincia Banda ancha fija Dial up      Total\n",
       " 0  2022          1     Buenos Aires        4.549.131   6.293  4.555.424\n",
       " 1  2022          1  Capital Federal        1.415.378   2.163  1.417.541\n",
       " 2  2022          1        Catamarca           62.377       1     62.378\n",
       " 3  2022          1            Chaco          144.114       5    144.119\n",
       " 4  2022          1           Chubut          170.701     927    171.628,\n",
       " Año                  int64\n",
       " Trimestre            int64\n",
       " Provincia           object\n",
       " Banda ancha fija    object\n",
       " Dial up             object\n",
       " Total               object\n",
       " dtype: object,\n",
       " None,\n",
       "                Año   Trimestre\n",
       " count   792.000000  792.000000\n",
       " mean   2017.636364    2.454545\n",
       " std       2.386030    1.131306\n",
       " min    2014.000000    1.000000\n",
       " 25%    2016.000000    1.000000\n",
       " 50%    2018.000000    2.000000\n",
       " 75%    2020.000000    3.000000\n",
       " max    2022.000000    4.000000,\n",
       "       Año  Trimestre  Provincia Banda ancha fija Dial up    Total\n",
       " 167  2020          3    Tucumán          223.854      22  223.876\n",
       " 76   2021          2     Chubut          138.412     825  139.237\n",
       " 757  2014          2   Misiones           74.689     - 0   74.689\n",
       " 92   2021          2   Santa Fe          840.449     151  840.600\n",
       " 495  2017          1  Río Negro          100.288   1.000  101.288)"
      ]
     },
     "execution_count": 12,
     "metadata": {},
     "output_type": "execute_result"
    }
   ],
   "source": [
    "eda_general(url_4)"
   ]
  },
  {
   "attachments": {},
   "cell_type": "markdown",
   "metadata": {},
   "source": [
    "### Tabla 4\n",
    "- No hay datos nulos\n",
    "- No hay duplicados\n",
    "- El type de las columnas NO es correcto varias de ellas\n",
    "\n",
    "-- SE SELECCIONA -- deben corregirse los errores"
   ]
  },
  {
   "cell_type": "code",
   "execution_count": 13,
   "metadata": {},
   "outputs": [
    {
     "data": {
      "text/plain": [
       "'No hay duplicados'"
      ]
     },
     "execution_count": 13,
     "metadata": {},
     "output_type": "execute_result"
    }
   ],
   "source": [
    "eda_duplicados(url_5)"
   ]
  },
  {
   "cell_type": "code",
   "execution_count": 14,
   "metadata": {},
   "outputs": [
    {
     "name": "stdout",
     "output_type": "stream",
     "text": [
      "<class 'pandas.core.frame.DataFrame'>\n",
      "RangeIndex: 33 entries, 0 to 32\n",
      "Data columns (total 9 columns):\n",
      " #   Column        Non-Null Count  Dtype \n",
      "---  ------        --------------  ----- \n",
      " 0   Año           33 non-null     int64 \n",
      " 1   Trimestre     33 non-null     int64 \n",
      " 2   ADSL          33 non-null     object\n",
      " 3   Cablemodem    33 non-null     object\n",
      " 4   Fibra óptica  33 non-null     object\n",
      " 5   Wireless      33 non-null     object\n",
      " 6   Otros         33 non-null     object\n",
      " 7   Total         33 non-null     object\n",
      " 8   Periodo       33 non-null     object\n",
      "dtypes: int64(2), object(7)\n",
      "memory usage: 2.4+ KB\n"
     ]
    },
    {
     "data": {
      "text/plain": [
       "(    Año  Trimestre       ADSL Cablemodem Fibra óptica Wireless    Otros  \\\n",
       " 0  2022          1  1.533.240  6.073.426    2.219.533  545.814  251.996   \n",
       " 1  2021          4  1.657.615  5.984.240    2.072.236  523.107  252.596   \n",
       " 2  2021          3  1.950.631  5.826.257    1.566.048  492.415  250.190   \n",
       " 3  2021          2  2.018.587  5.641.731    1.472.246  476.968  253.552   \n",
       " 4  2021          1  2.175.211  5.424.782    1.362.976  434.548  250.455   \n",
       " \n",
       "         Total        Periodo  \n",
       " 0  10.624.009   Ene-Mar 2022  \n",
       " 1  10.489.794   Oct-Dic 2021  \n",
       " 2  10.085.541  Jul-Sept 2021  \n",
       " 3   9.863.084   Abr-Jun 2021  \n",
       " 4   9.647.972   Ene-Mar 2021  ,\n",
       " Año              int64\n",
       " Trimestre        int64\n",
       " ADSL            object\n",
       " Cablemodem      object\n",
       " Fibra óptica    object\n",
       " Wireless        object\n",
       " Otros           object\n",
       " Total           object\n",
       " Periodo         object\n",
       " dtype: object,\n",
       " None,\n",
       "                Año  Trimestre\n",
       " count    33.000000  33.000000\n",
       " mean   2017.636364   2.454545\n",
       " std       2.421495   1.148121\n",
       " min    2014.000000   1.000000\n",
       " 25%    2016.000000   1.000000\n",
       " 50%    2018.000000   2.000000\n",
       " 75%    2020.000000   3.000000\n",
       " max    2022.000000   4.000000,\n",
       "      Año  Trimestre       ADSL Cablemodem Fibra óptica Wireless    Otros  \\\n",
       " 22  2016          3  3.776.442  3.124.855      169.898   81.455   54.300   \n",
       " 29  2014          4  3.764.038  2.536.219      149.682   76.984   71.573   \n",
       " 30  2014          3  3.714.764  2.569.868      155.494   85.096   70.049   \n",
       " 31  2014          2  3.708.882  2.461.670      149.363   72.405   72.148   \n",
       " 17  2017          4  3.584.311  3.818.157      211.425  155.775  100.554   \n",
       " \n",
       "         Total        Periodo  \n",
       " 22  7.206.950  Jul-Sept 2016  \n",
       " 29  6.598.496   Oct-Dic 2014  \n",
       " 30  6.595.271  Jul-Sept 2014  \n",
       " 31  6.464.468   Abr-Jun 2014  \n",
       " 17  7.870.222   Oct-Dic 2017  )"
      ]
     },
     "execution_count": 14,
     "metadata": {},
     "output_type": "execute_result"
    }
   ],
   "source": [
    "eda_general(url_5)"
   ]
  },
  {
   "attachments": {},
   "cell_type": "markdown",
   "metadata": {},
   "source": [
    "### Tabla 5\n",
    "- No hay datos nulos\n",
    "- No hay duplicados\n",
    "- El type de las columnas NO es correcto varias de ellas\n",
    "\n",
    "-- NO SE SELECCIONA --"
   ]
  },
  {
   "cell_type": "code",
   "execution_count": 15,
   "metadata": {},
   "outputs": [
    {
     "data": {
      "text/plain": [
       "'No hay duplicados'"
      ]
     },
     "execution_count": 15,
     "metadata": {},
     "output_type": "execute_result"
    }
   ],
   "source": [
    "eda_duplicados(url_6)"
   ]
  },
  {
   "cell_type": "code",
   "execution_count": 16,
   "metadata": {},
   "outputs": [
    {
     "name": "stdout",
     "output_type": "stream",
     "text": [
      "<class 'pandas.core.frame.DataFrame'>\n",
      "RangeIndex: 793 entries, 0 to 792\n",
      "Data columns (total 9 columns):\n",
      " #   Column        Non-Null Count  Dtype \n",
      "---  ------        --------------  ----- \n",
      " 0   Año           793 non-null    object\n",
      " 1   Trimestre     793 non-null    object\n",
      " 2   Provincia     792 non-null    object\n",
      " 3   ADSL          792 non-null    object\n",
      " 4   Cablemodem    792 non-null    object\n",
      " 5   Fibra óptica  792 non-null    object\n",
      " 6   Wireless      792 non-null    object\n",
      " 7   Otros         792 non-null    object\n",
      " 8   Total         792 non-null    object\n",
      "dtypes: object(9)\n",
      "memory usage: 55.9+ KB\n"
     ]
    },
    {
     "data": {
      "text/plain": [
       "(    Año Trimestre        Provincia     ADSL Cablemodem Fibra óptica Wireless  \\\n",
       " 0  2022         1     Buenos Aires  392.045  2.728.865    1.242.121  125.521   \n",
       " 1  2022         1  Capital Federal  102.290  1.217.225       62.308    5.784   \n",
       " 2  2022         1        Catamarca   14.181     15.517       29.118    1.328   \n",
       " 3  2022         1            Chaco   32.391     64.546       36.662    8.164   \n",
       " 4  2022         1           Chubut   44.133     66.667        9.184   30.592   \n",
       " \n",
       "     Otros      Total  \n",
       " 0  66.872  4.555.424  \n",
       " 1  29.934  1.417.541  \n",
       " 2   2.234     62.378  \n",
       " 3   2.356    144.119  \n",
       " 4  21.052    171.628  ,\n",
       " Año             object\n",
       " Trimestre       object\n",
       " Provincia       object\n",
       " ADSL            object\n",
       " Cablemodem      object\n",
       " Fibra óptica    object\n",
       " Wireless        object\n",
       " Otros           object\n",
       " Total           object\n",
       " dtype: object,\n",
       " None,\n",
       "          Año Trimestre     Provincia    ADSL Cablemodem Fibra óptica Wireless  \\\n",
       " count    793       793           792     792        792          792      792   \n",
       " unique    11         8            24     707        681          550      559   \n",
       " top     2021         1  Buenos Aires  22.636     34.984           19      - 0   \n",
       " freq      96       192            33       9         15           17       38   \n",
       " \n",
       "        Otros   Total  \n",
       " count    792     792  \n",
       " unique   530     783  \n",
       " top       34  13.307  \n",
       " freq      15       3  ,\n",
       "       Año Trimestre  Provincia     ADSL Cablemodem Fibra óptica Wireless  \\\n",
       " 227  2019         4   La Rioja   13.738     34.984          - 0      251   \n",
       " 636  2015         3    Mendoza  153.299     13.030        2.572       42   \n",
       " 722  2014         3  Catamarca   24.380        244           15      - 0   \n",
       " 86   2021         2    Neuquén   30.083     72.690       15.619   19.218   \n",
       " 683  2015         1   La Rioja   16.282        - 0           16        2   \n",
       " \n",
       "      Otros    Total  \n",
       " 227     29   49.002  \n",
       " 636  1.880  170.823  \n",
       " 722     47   24.686  \n",
       " 86     640  138.250  \n",
       " 683     33   16.333  )"
      ]
     },
     "execution_count": 16,
     "metadata": {},
     "output_type": "execute_result"
    }
   ],
   "source": [
    "eda_general(url_6)"
   ]
  },
  {
   "attachments": {},
   "cell_type": "markdown",
   "metadata": {},
   "source": [
    "### Tabla 6\n",
    "- No hay datos nulos\n",
    "- No hay duplicados\n",
    "- El type de las columnas NO es correcto en ninguna de ellas\n",
    "\n",
    "-- SE SELECCIONA -- Deben corregirse los errores antes de avanzar"
   ]
  },
  {
   "cell_type": "code",
   "execution_count": 17,
   "metadata": {},
   "outputs": [
    {
     "data": {
      "text/plain": [
       "'No hay duplicados'"
      ]
     },
     "execution_count": 17,
     "metadata": {},
     "output_type": "execute_result"
    }
   ],
   "source": [
    "eda_duplicados(url_7)"
   ]
  },
  {
   "cell_type": "code",
   "execution_count": 18,
   "metadata": {},
   "outputs": [
    {
     "name": "stdout",
     "output_type": "stream",
     "text": [
      "<class 'pandas.core.frame.DataFrame'>\n",
      "RangeIndex: 33 entries, 0 to 32\n",
      "Data columns (total 9 columns):\n",
      " #   Column        Non-Null Count  Dtype \n",
      "---  ------        --------------  ----- \n",
      " 0   Año           33 non-null     int64 \n",
      " 1   Trimestre     33 non-null     int64 \n",
      " 2   ADSL          33 non-null     object\n",
      " 3   Cablemodem    33 non-null     object\n",
      " 4   Fibra óptica  33 non-null     object\n",
      " 5   Wireless      33 non-null     object\n",
      " 6   Otros         33 non-null     object\n",
      " 7   Total         33 non-null     object\n",
      " 8   Periodo       33 non-null     object\n",
      "dtypes: int64(2), object(7)\n",
      "memory usage: 2.4+ KB\n"
     ]
    },
    {
     "data": {
      "text/plain": [
       "(    Año  Trimestre       ADSL Cablemodem Fibra óptica Wireless    Otros  \\\n",
       " 0  2022          1  1.533.240  6.073.426    2.219.533  545.814  251.996   \n",
       " 1  2021          4  1.657.615  5.984.240    2.072.236  523.107  252.596   \n",
       " 2  2021          3  1.950.631  5.826.257    1.566.048  492.415  250.190   \n",
       " 3  2021          2  2.018.587  5.641.731    1.472.246  476.968  253.552   \n",
       " 4  2021          1  2.175.211  5.424.782    1.362.976  434.548  250.455   \n",
       " \n",
       "         Total        Periodo  \n",
       " 0  10.624.009   Ene-Mar 2022  \n",
       " 1  10.489.794   Oct-Dic 2021  \n",
       " 2  10.085.541  Jul-Sept 2021  \n",
       " 3   9.863.084   Abr-Jun 2021  \n",
       " 4   9.647.972   Ene-Mar 2021  ,\n",
       " Año              int64\n",
       " Trimestre        int64\n",
       " ADSL            object\n",
       " Cablemodem      object\n",
       " Fibra óptica    object\n",
       " Wireless        object\n",
       " Otros           object\n",
       " Total           object\n",
       " Periodo         object\n",
       " dtype: object,\n",
       " None,\n",
       "                Año  Trimestre\n",
       " count    33.000000  33.000000\n",
       " mean   2017.636364   2.454545\n",
       " std       2.421495   1.148121\n",
       " min    2014.000000   1.000000\n",
       " 25%    2016.000000   1.000000\n",
       " 50%    2018.000000   2.000000\n",
       " 75%    2020.000000   3.000000\n",
       " max    2022.000000   4.000000,\n",
       "      Año  Trimestre       ADSL Cablemodem Fibra óptica Wireless    Otros  \\\n",
       " 5   2020          4  2.213.949  5.371.824    1.311.199  421.554  253.036   \n",
       " 19  2017          2  3.723.518  3.383.434      180.777   85.813   56.122   \n",
       " 20  2017          1  3.708.898  3.276.251      180.146   84.813   55.746   \n",
       " 24  2016          1  3.792.493  2.806.359      164.371   85.370   58.763   \n",
       " 11  2019          2  2.990.457  4.635.575      760.794  308.027  265.328   \n",
       " \n",
       "         Total       Periodo  \n",
       " 5   9.571.562  Oct-Dic 2020  \n",
       " 19  7.429.664  Abr-Jun 2017  \n",
       " 20  7.305.854  Ene-Mar 2017  \n",
       " 24  6.907.356  Ene-Mar 2016  \n",
       " 11  8.960.181  Abr-Jun 2019  )"
      ]
     },
     "execution_count": 18,
     "metadata": {},
     "output_type": "execute_result"
    }
   ],
   "source": [
    "eda_general(url_7)"
   ]
  },
  {
   "attachments": {},
   "cell_type": "markdown",
   "metadata": {},
   "source": [
    "### Tabla 7\n",
    "- No hay datos nulos\n",
    "- No hay duplicados\n",
    "- El type de las columnas NO es correcto en varias de ellas\n",
    "\n",
    "-- NO SE SELECCIONA -- "
   ]
  },
  {
   "cell_type": "code",
   "execution_count": 19,
   "metadata": {},
   "outputs": [
    {
     "data": {
      "text/plain": [
       "'No hay duplicados'"
      ]
     },
     "execution_count": 19,
     "metadata": {},
     "output_type": "execute_result"
    }
   ],
   "source": [
    "eda_duplicados(url_8)"
   ]
  },
  {
   "cell_type": "code",
   "execution_count": 20,
   "metadata": {},
   "outputs": [
    {
     "name": "stdout",
     "output_type": "stream",
     "text": [
      "<class 'pandas.core.frame.DataFrame'>\n",
      "RangeIndex: 793 entries, 0 to 792\n",
      "Data columns (total 9 columns):\n",
      " #   Column        Non-Null Count  Dtype \n",
      "---  ------        --------------  ----- \n",
      " 0   Año           793 non-null    object\n",
      " 1   Trimestre     793 non-null    object\n",
      " 2   Provincia     792 non-null    object\n",
      " 3   ADSL          792 non-null    object\n",
      " 4   Cablemodem    792 non-null    object\n",
      " 5   Fibra óptica  792 non-null    object\n",
      " 6   Wireless      792 non-null    object\n",
      " 7   Otros         792 non-null    object\n",
      " 8   Total         792 non-null    object\n",
      "dtypes: object(9)\n",
      "memory usage: 55.9+ KB\n"
     ]
    },
    {
     "data": {
      "text/plain": [
       "(    Año Trimestre        Provincia     ADSL Cablemodem Fibra óptica Wireless  \\\n",
       " 0  2022         1     Buenos Aires  392.045  2.728.865    1.242.121  125.521   \n",
       " 1  2022         1  Capital Federal  102.290  1.217.225       62.308    5.784   \n",
       " 2  2022         1        Catamarca   14.181     15.517       29.118    1.328   \n",
       " 3  2022         1            Chaco   32.391     64.546       36.662    8.164   \n",
       " 4  2022         1           Chubut   44.133     66.667        9.184   30.592   \n",
       " \n",
       "     Otros      Total  \n",
       " 0  66.872  4.555.424  \n",
       " 1  29.934  1.417.541  \n",
       " 2   2.234     62.378  \n",
       " 3   2.356    144.119  \n",
       " 4  21.052    171.628  ,\n",
       " Año             object\n",
       " Trimestre       object\n",
       " Provincia       object\n",
       " ADSL            object\n",
       " Cablemodem      object\n",
       " Fibra óptica    object\n",
       " Wireless        object\n",
       " Otros           object\n",
       " Total           object\n",
       " dtype: object,\n",
       " None,\n",
       "          Año Trimestre     Provincia    ADSL Cablemodem Fibra óptica Wireless  \\\n",
       " count    793       793           792     792        792          792      792   \n",
       " unique    11         8            24     707        681          550      559   \n",
       " top     2021         1  Buenos Aires  22.636     34.984           19      - 0   \n",
       " freq      96       192            33       9         15           17       38   \n",
       " \n",
       "        Otros   Total  \n",
       " count    792     792  \n",
       " unique   530     783  \n",
       " top       34  13.307  \n",
       " freq      15       3  ,\n",
       "       Año Trimestre  Provincia     ADSL Cablemodem Fibra óptica Wireless  \\\n",
       " 791  2014         1    Tucumán  129.717         83          121       13   \n",
       " 663  2015         2  Río Negro   66.738     26.268          916    3.457   \n",
       " 483  2017         1      Chaco   54.430     34.277          252       52   \n",
       " 185  2020         2   San Juan   40.092      8.275        5.509    7.019   \n",
       " 716  2014         4   Santa Fe  335.267    183.009        3.205    6.282   \n",
       " \n",
       "      Otros    Total  \n",
       " 791     98  130.032  \n",
       " 663  1.348   98.727  \n",
       " 483     39   89.050  \n",
       " 185  8.882   69.777  \n",
       " 716  1.634  529.397  )"
      ]
     },
     "execution_count": 20,
     "metadata": {},
     "output_type": "execute_result"
    }
   ],
   "source": [
    "eda_general(url_8)"
   ]
  },
  {
   "attachments": {},
   "cell_type": "markdown",
   "metadata": {},
   "source": [
    "### Tabla 8\n",
    "- No hay datos nulos \n",
    "- No hay duplicados\n",
    "- El type de las columnas NO es correcto en ninguna de ellas\n",
    "\n",
    "-- SE SELECCIONA -- Deben corregirse los errores antes de avanzar"
   ]
  },
  {
   "cell_type": "code",
   "execution_count": 21,
   "metadata": {},
   "outputs": [
    {
     "data": {
      "text/plain": [
       "'No hay duplicados'"
      ]
     },
     "execution_count": 21,
     "metadata": {},
     "output_type": "execute_result"
    }
   ],
   "source": [
    "eda_duplicados(url_9)"
   ]
  },
  {
   "cell_type": "code",
   "execution_count": 22,
   "metadata": {},
   "outputs": [
    {
     "name": "stdout",
     "output_type": "stream",
     "text": [
      "<class 'pandas.core.frame.DataFrame'>\n",
      "RangeIndex: 33 entries, 0 to 32\n",
      "Data columns (total 12 columns):\n",
      " #   Column                   Non-Null Count  Dtype  \n",
      "---  ------                   --------------  -----  \n",
      " 0   Año                      33 non-null     int64  \n",
      " 1   Trimestre                33 non-null     int64  \n",
      " 2   Hasta 512 kbps           33 non-null     object \n",
      " 3   Entre 512 Kbps y 1 Mbps  33 non-null     object \n",
      " 4   Entre 1 Mbps y 6 Mbps    33 non-null     object \n",
      " 5   Entre 6 Mbps y 10 Mbps   33 non-null     object \n",
      " 6   Entre 10 Mbps y 20 Mbps  33 non-null     object \n",
      " 7   Entre 20 Mbps y 30 Mbps  33 non-null     object \n",
      " 8   Más de 30 Mbps           33 non-null     object \n",
      " 9   OTROS                    33 non-null     object \n",
      " 10  Total                    33 non-null     object \n",
      " 11  Unnamed: 11              0 non-null      float64\n",
      "dtypes: float64(1), int64(2), object(9)\n",
      "memory usage: 3.2+ KB\n"
     ]
    },
    {
     "data": {
      "text/plain": [
       "(    Año  Trimestre Hasta 512 kbps Entre 512 Kbps y 1 Mbps  \\\n",
       " 0  2022          1         34.890                 104.840   \n",
       " 1  2021          4         41.262                  28.521   \n",
       " 2  2021          3         40.174                  41.437   \n",
       " 3  2021          2         40.172                  42.024   \n",
       " 4  2021          1         39.487                  41.674   \n",
       " \n",
       "   Entre 1 Mbps y 6 Mbps Entre 6 Mbps y 10 Mbps Entre 10 Mbps y 20 Mbps  \\\n",
       " 0             1.263.273              1.209.148                 967.508   \n",
       " 1             1.413.208              1.245.333                 976.539   \n",
       " 2             2.550.229              1.095.772                 710.122   \n",
       " 3             2.531.271              1.080.279                 693.277   \n",
       " 4             2.593.477              1.072.722                 737.930   \n",
       " \n",
       "   Entre 20 Mbps y 30 Mbps Más de 30 Mbps    OTROS       Total  Unnamed: 11  \n",
       " 0                 509.830      6.336.187  198.333  10.624.009          NaN  \n",
       " 1                 558.358      6.032.322  194.251  10.489.794          NaN  \n",
       " 2                 536.364      4.948.174  163.269  10.085.541          NaN  \n",
       " 3                 647.401      4.661.291  167.369   9.863.084          NaN  \n",
       " 4                 595.920      4.379.965  186.797   9.647.972          NaN  ,\n",
       " Año                          int64\n",
       " Trimestre                    int64\n",
       " Hasta 512 kbps              object\n",
       " Entre 512 Kbps y 1 Mbps     object\n",
       " Entre 1 Mbps y 6 Mbps       object\n",
       " Entre 6 Mbps y 10 Mbps      object\n",
       " Entre 10 Mbps y 20 Mbps     object\n",
       " Entre 20 Mbps y 30 Mbps     object\n",
       " Más de 30 Mbps              object\n",
       " OTROS                       object\n",
       " Total                       object\n",
       " Unnamed: 11                float64\n",
       " dtype: object,\n",
       " None,\n",
       "                Año  Trimestre  Unnamed: 11\n",
       " count    33.000000  33.000000          0.0\n",
       " mean   2017.636364   2.454545          NaN\n",
       " std       2.421495   1.148121          NaN\n",
       " min    2014.000000   1.000000          NaN\n",
       " 25%    2016.000000   1.000000          NaN\n",
       " 50%    2018.000000   2.000000          NaN\n",
       " 75%    2020.000000   3.000000          NaN\n",
       " max    2022.000000   4.000000          NaN,\n",
       "      Año  Trimestre Hasta 512 kbps Entre 512 Kbps y 1 Mbps  \\\n",
       " 17  2017          4         15.041                 221.474   \n",
       " 21  2016          4         20.724                 233.398   \n",
       " 0   2022          1         34.890                 104.840   \n",
       " 2   2021          3         40.174                  41.437   \n",
       " 25  2015          4         34.243                 427.394   \n",
       " \n",
       "    Entre 1 Mbps y 6 Mbps Entre 6 Mbps y 10 Mbps Entre 10 Mbps y 20 Mbps  \\\n",
       " 17             3.773.159              1.005.545               1.730.353   \n",
       " 21             4.673.339                971.094               1.038.029   \n",
       " 0              1.263.273              1.209.148                 967.508   \n",
       " 2              2.550.229              1.095.772                 710.122   \n",
       " 25             5.049.640                726.740                 639.011   \n",
       " \n",
       "    Entre 20 Mbps y 30 Mbps Más de 30 Mbps    OTROS       Total  Unnamed: 11  \n",
       " 17                 631.946        337.559  155.145   7.870.222          NaN  \n",
       " 21                 169.522         38.590        0   7.144.696          NaN  \n",
       " 0                  509.830      6.336.187  198.333  10.624.009          NaN  \n",
       " 2                  536.364      4.948.174  163.269  10.085.541          NaN  \n",
       " 25                  17.568         22.170        0   6.916.766          NaN  )"
      ]
     },
     "execution_count": 22,
     "metadata": {},
     "output_type": "execute_result"
    }
   ],
   "source": [
    "eda_general(url_9)"
   ]
  },
  {
   "attachments": {},
   "cell_type": "markdown",
   "metadata": {},
   "source": [
    "### Tabla 9\n",
    "- Hay una columna vacía al final\n",
    "- Hay datos nulos (además de los que estan porque cada registro posee un tipo de tecnología)\n",
    "- No hay duplicados\n",
    "- El type de las columnas NO es correcto en ninguna de ellas\n",
    "\n",
    "-- NO SE SELECCIONA -- Deben corregirse los errores antes de avanzar"
   ]
  },
  {
   "cell_type": "code",
   "execution_count": 23,
   "metadata": {},
   "outputs": [
    {
     "name": "stdout",
     "output_type": "stream",
     "text": [
      "<class 'pandas.core.frame.DataFrame'>\n",
      "RangeIndex: 792 entries, 0 to 791\n",
      "Data columns (total 12 columns):\n",
      " #   Column               Non-Null Count  Dtype \n",
      "---  ------               --------------  ----- \n",
      " 0   Año                  792 non-null    int64 \n",
      " 1   Trimestre            792 non-null    int64 \n",
      " 2   Provincia            792 non-null    object\n",
      " 3   HASTA 512 kbps       792 non-null    object\n",
      " 4   + 512 Kbps - 1 Mbps  792 non-null    object\n",
      " 5   + 1 Mbps - 6 Mbps    792 non-null    object\n",
      " 6   + 6 Mbps - 10 Mbps   792 non-null    object\n",
      " 7   + 10 Mbps - 20 Mbps  792 non-null    object\n",
      " 8   + 20 Mbps - 30 Mbps  792 non-null    object\n",
      " 9   + 30 Mbps            792 non-null    object\n",
      " 10  OTROS                786 non-null    object\n",
      " 11  Total                792 non-null    object\n",
      "dtypes: int64(2), object(10)\n",
      "memory usage: 74.4+ KB\n"
     ]
    },
    {
     "data": {
      "text/plain": [
       "(    Año  Trimestre        Provincia HASTA 512 kbps + 512 Kbps - 1 Mbps  \\\n",
       " 0  2022          1     Buenos Aires         31.591              30.056   \n",
       " 1  2022          1  Capital Federal            527               5.575   \n",
       " 2  2022          1        Catamarca             71                 456   \n",
       " 3  2022          1            Chaco            461               1.099   \n",
       " 4  2022          1           Chubut            113               1.677   \n",
       " \n",
       "   + 1 Mbps - 6 Mbps + 6 Mbps - 10 Mbps + 10 Mbps - 20 Mbps  \\\n",
       " 0           313.382            321.756             290.127   \n",
       " 1            39.918             77.390              61.053   \n",
       " 2             4.386              7.009               8.773   \n",
       " 3            16.888             21.235              20.898   \n",
       " 4            61.369             31.856              33.080   \n",
       " \n",
       "   + 20 Mbps - 30 Mbps  + 30 Mbps   OTROS      Total  \n",
       " 0             161.183  3.381.049  26.280  4.555.424  \n",
       " 1              43.289  1.188.072   1.717  1.417.541  \n",
       " 2               3.761     35.715   2.207     62.378  \n",
       " 3              13.012     62.946   7.580    144.119  \n",
       " 4              13.871     14.055  15.607    171.628  ,\n",
       " Año                     int64\n",
       " Trimestre               int64\n",
       " Provincia              object\n",
       " HASTA 512 kbps         object\n",
       " + 512 Kbps - 1 Mbps    object\n",
       " + 1 Mbps - 6 Mbps      object\n",
       " + 6 Mbps - 10 Mbps     object\n",
       " + 10 Mbps - 20 Mbps    object\n",
       " + 20 Mbps - 30 Mbps    object\n",
       " + 30 Mbps              object\n",
       " OTROS                  object\n",
       " Total                  object\n",
       " dtype: object,\n",
       " None,\n",
       "                Año   Trimestre\n",
       " count   792.000000  792.000000\n",
       " mean   2017.636364    2.454545\n",
       " std       2.386030    1.131306\n",
       " min    2014.000000    1.000000\n",
       " 25%    2016.000000    1.000000\n",
       " 50%    2018.000000    2.000000\n",
       " 75%    2020.000000    3.000000\n",
       " max    2022.000000    4.000000,\n",
       "       Año  Trimestre   Provincia HASTA 512 kbps + 512 Kbps - 1 Mbps  \\\n",
       " 56   2021          3     Formosa            381                   0   \n",
       " 731  2014          3    La Rioja             10               4.785   \n",
       " 122  2020          4   Catamarca             71                   0   \n",
       " 403  2018          1  Santa Cruz             26                 120   \n",
       " 182  2020          2     Neuquén            218                 327   \n",
       " \n",
       "     + 1 Mbps - 6 Mbps + 6 Mbps - 10 Mbps + 10 Mbps - 20 Mbps  \\\n",
       " 56             22.778              7.142               6.978   \n",
       " 731             9.720              1.337                  61   \n",
       " 122             8.843              8.740              11.436   \n",
       " 403            28.600                655                 100   \n",
       " 182            61.171              6.103               6.625   \n",
       " \n",
       "     + 20 Mbps - 30 Mbps + 30 Mbps  OTROS    Total  \n",
       " 56                1.192    12.707  1.617   52.795  \n",
       " 731                   0         0      0   15.913  \n",
       " 122                 591    20.406  2.309   52.396  \n",
       " 403                   1         3  4.267   33.772  \n",
       " 182               5.296    46.432      0  126.172  )"
      ]
     },
     "execution_count": 23,
     "metadata": {},
     "output_type": "execute_result"
    }
   ],
   "source": [
    "eda_general(url_10)"
   ]
  },
  {
   "attachments": {},
   "cell_type": "markdown",
   "metadata": {},
   "source": [
    "### Tabla 10\n",
    "- Hay datos nulos (además de los que estan porque cada registro posee un tipo de tecnología, por lo que se completan con cero)\n",
    "- No hay duplicados\n",
    "- El type de las columnas NO es correcto en varias de ellas\n",
    "- No tienen nombre de columnas estandarizados con respecto a las tablas 9 y 8\n",
    "\n",
    "-- SE SELECCIONA -- Deben corregirse los errores antes de avanzar"
   ]
  },
  {
   "cell_type": "code",
   "execution_count": 24,
   "metadata": {},
   "outputs": [
    {
     "data": {
      "text/plain": [
       "'No hay duplicados'"
      ]
     },
     "execution_count": 24,
     "metadata": {},
     "output_type": "execute_result"
    }
   ],
   "source": [
    "eda_duplicados(url_11)"
   ]
  },
  {
   "cell_type": "code",
   "execution_count": 25,
   "metadata": {},
   "outputs": [
    {
     "name": "stdout",
     "output_type": "stream",
     "text": [
      "<class 'pandas.core.frame.DataFrame'>\n",
      "RangeIndex: 433 entries, 0 to 432\n",
      "Data columns (total 97 columns):\n",
      " #   Column      Non-Null Count  Dtype  \n",
      "---  ------      --------------  -----  \n",
      " 0   Año         432 non-null    float64\n",
      " 1   Trimestre   432 non-null    float64\n",
      " 2   Provincia   432 non-null    object \n",
      " 3   Otros       432 non-null    object \n",
      " 4   0,256 Mbps  432 non-null    object \n",
      " 5   0,375 Mbps  432 non-null    object \n",
      " 6   0,625 Mbps  432 non-null    object \n",
      " 7   0,5 Mbps    432 non-null    float64\n",
      " 8   0,512 Mbps  432 non-null    object \n",
      " 9   0,75 Mbps   432 non-null    object \n",
      " 10  1 Mbps      432 non-null    object \n",
      " 11  1,2 Mbps    432 non-null    object \n",
      " 12  1,25 Mbps   432 non-null    object \n",
      " 13  1,5 Mbps    432 non-null    object \n",
      " 14  2 Mbps      432 non-null    object \n",
      " 15  2,2 Mbps    432 non-null    object \n",
      " 16  2,5 Mbps    433 non-null    object \n",
      " 17  6,7 Mbps    432 non-null    object \n",
      " 18  3 Mbps      432 non-null    float64\n",
      " 19  3,2 Mbps    432 non-null    object \n",
      " 20  3,3 Mbps    432 non-null    object \n",
      " 21  3,5 Mbps    432 non-null    object \n",
      " 22  4 Mbps      432 non-null    object \n",
      " 23  4,5 Mbps    432 non-null    object \n",
      " 24  5 Mbps      432 non-null    object \n",
      " 25  6 Mbps      432 non-null    object \n",
      " 26  6,4 Mbps    432 non-null    object \n",
      " 27  7 Mbps      432 non-null    object \n",
      " 28  7,5 Mbps    432 non-null    object \n",
      " 29  8 Mbps      432 non-null    object \n",
      " 30  9 Mbps      432 non-null    object \n",
      " 31  10 Mbps     432 non-null    float64\n",
      " 32  10,6 Mbps   432 non-null    object \n",
      " 33  11 Mbps     432 non-null    object \n",
      " 34  12 Mbps     432 non-null    object \n",
      " 35  13 Mbps     432 non-null    object \n",
      " 36  14 Mbps     432 non-null    object \n",
      " 37  15 Mbps     432 non-null    object \n",
      " 38  16 Mbps     432 non-null    object \n",
      " 39  17 Mbps     432 non-null    object \n",
      " 40  18 Mbps     432 non-null    object \n",
      " 41  19 Mbps     432 non-null    object \n",
      " 42  20 Mbps     432 non-null    object \n",
      " 43  21 Mbps     432 non-null    object \n",
      " 44  22 Mbps     432 non-null    object \n",
      " 45  23 Mbps     432 non-null    object \n",
      " 46  24 Mbps     432 non-null    object \n",
      " 47  25 Mbps     432 non-null    object \n",
      " 48  25,1 Mbps   432 non-null    object \n",
      " 49  25,11 Mbps  432 non-null    object \n",
      " 50  25,5 Mbps   432 non-null    object \n",
      " 51  26 Mbps     432 non-null    object \n",
      " 52  28 Mbps     432 non-null    object \n",
      " 53  29 Mbps     432 non-null    object \n",
      " 54  30 Mbps     432 non-null    object \n",
      " 55  31 Mbps     432 non-null    object \n",
      " 56  32 Mbps     432 non-null    object \n",
      " 57  34 Mbps     432 non-null    object \n",
      " 58  35 Mbps     432 non-null    object \n",
      " 59  36 Mbps     432 non-null    object \n",
      " 60  37 Mbps     432 non-null    object \n",
      " 61  38 Mbps     432 non-null    object \n",
      " 62  39 Mbps     432 non-null    object \n",
      " 63  40 Mbps     432 non-null    object \n",
      " 64  41 Mbps     432 non-null    object \n",
      " 65  45 Mbps     432 non-null    object \n",
      " 66  46 Mbps     432 non-null    object \n",
      " 67  47 Mbps     432 non-null    object \n",
      " 68  48 Mbps     432 non-null    object \n",
      " 69  49 Mbps     432 non-null    object \n",
      " 70  50 Mbps     432 non-null    object \n",
      " 71  51 Mbps     432 non-null    object \n",
      " 72  52 Mbps     432 non-null    object \n",
      " 73  54 Mbps     432 non-null    object \n",
      " 74  55 Mbps     432 non-null    object \n",
      " 75  56 Mbps     432 non-null    object \n",
      " 76  58 Mbps     432 non-null    object \n",
      " 77  59 Mbps     432 non-null    object \n",
      " 78  60 Mbps     432 non-null    object \n",
      " 79  61 Mbps     432 non-null    object \n",
      " 80  62 Mbps     432 non-null    object \n",
      " 81  63 Mbps     432 non-null    object \n",
      " 82  64 Mbps     432 non-null    object \n",
      " 83  65 Mbps     432 non-null    object \n",
      " 84  66 Mbps     432 non-null    object \n",
      " 85  67 Mbps     432 non-null    object \n",
      " 86  68 Mbps     432 non-null    object \n",
      " 87  70 Mbps     432 non-null    object \n",
      " 88  71 Mbps     432 non-null    object \n",
      " 89  75 Mbps     432 non-null    object \n",
      " 90  77 Mbps     432 non-null    object \n",
      " 91  78 Mbps     432 non-null    object \n",
      " 92  80 Mbps     432 non-null    object \n",
      " 93  81 Mbps     432 non-null    object \n",
      " 94  83 Mbps     432 non-null    object \n",
      " 95  82 Mbps     432 non-null    object \n",
      " 96  86 Mbps     432 non-null    object \n",
      "dtypes: float64(5), object(92)\n",
      "memory usage: 328.3+ KB\n"
     ]
    },
    {
     "data": {
      "text/plain": [
       "(      Año  Trimestre        Provincia   Otros 0,256 Mbps 0,375 Mbps  \\\n",
       " 0  2022.0        1.0     Buenos Aires  26,280         19        - 0   \n",
       " 1  2022.0        1.0  Capital Federal   1,717         31        - 0   \n",
       " 2  2022.0        1.0        Catamarca   2,207        - 0        - 0   \n",
       " 3  2022.0        1.0            Chaco   7,580        - 0        225   \n",
       " 4  2022.0        1.0           Chubut  15,607          8        - 0   \n",
       " \n",
       "   0,625 Mbps  0,5 Mbps 0,512 Mbps 0,75 Mbps  ... 70 Mbps 71 Mbps  75 Mbps  \\\n",
       " 0        - 0     31.38        192     5,958  ...   3,163     - 0  100,884   \n",
       " 1        - 0    461.00         35     1,407  ...       3     - 0   31,684   \n",
       " 2        - 0     34.00         37       - 0  ...     - 0     - 0      - 0   \n",
       " 3        111    234.00          2       - 0  ...     - 0     - 0      - 0   \n",
       " 4        - 0     73.00         32     1,069  ...     - 0     - 0      - 0   \n",
       " \n",
       "   77 Mbps 78 Mbps 80 Mbps 81 Mbps 83 Mbps  82 Mbps 86 Mbps  \n",
       " 0     - 0       4     212     - 0       2      - 0     - 0  \n",
       " 1     - 0     - 0       8     - 0     - 0      - 0     - 0  \n",
       " 2     - 0     - 0     - 0     - 0     - 0      - 0     - 0  \n",
       " 3     - 0     - 0     - 0     - 0     - 0      - 0     - 0  \n",
       " 4     - 0     - 0     - 0     - 0     - 0      - 0     - 0  \n",
       " \n",
       " [5 rows x 97 columns],\n",
       " Año           float64\n",
       " Trimestre     float64\n",
       " Provincia      object\n",
       " Otros          object\n",
       " 0,256 Mbps     object\n",
       "                ...   \n",
       " 80 Mbps        object\n",
       " 81 Mbps        object\n",
       " 83 Mbps        object\n",
       " 82 Mbps        object\n",
       " 86 Mbps        object\n",
       " Length: 97, dtype: object,\n",
       " None,\n",
       "                Año   Trimestre    0,5 Mbps      3 Mbps     10 Mbps\n",
       " count   432.000000  432.000000  432.000000  432.000000  432.000000\n",
       " mean   2019.500000    2.500000   78.719322   66.339111   68.549262\n",
       " std       1.345268    1.168019  118.340060  185.803807  118.351137\n",
       " min    2017.000000    1.000000    1.009000    1.029000    1.000000\n",
       " 25%    2018.000000    1.000000   19.000000    5.892750    6.774750\n",
       " 50%    2019.500000    2.500000   39.000000    9.502500   19.391000\n",
       " 75%    2021.000000    4.000000   69.000000   20.515750   69.209000\n",
       " max    2022.000000    4.000000  991.000000  970.000000  659.000000,\n",
       "         Año  Trimestre         Provincia    Otros 0,256 Mbps 0,375 Mbps  \\\n",
       " 408  2017.0        4.0      Buenos Aires  114,182        - 0        - 0   \n",
       " 84   2021.0        2.0           Mendoza       50          1        - 0   \n",
       " 130  2020.0        4.0          La Pampa    2,520          1        - 0   \n",
       " 371  2018.0        2.0          La Rioja        3        - 0        - 0   \n",
       " 22   2022.0        1.0  Tierra Del Fuego    2,421        - 0        - 0   \n",
       " \n",
       "     0,625 Mbps  0,5 Mbps 0,512 Mbps 0,75 Mbps  ... 70 Mbps 71 Mbps 75 Mbps  \\\n",
       " 408        - 0     3.865        - 0    35,185  ...       2     - 0     - 0   \n",
       " 84         - 0    19.000         16       - 0  ...       2     - 0       1   \n",
       " 130        - 0   236.000         61       313  ...     - 0     - 0     - 0   \n",
       " 371        - 0     9.000        - 0         1  ...     - 0     - 0     - 0   \n",
       " 22         - 0    13.000         11       381  ...     - 0     - 0     - 0   \n",
       " \n",
       "     77 Mbps 78 Mbps 80 Mbps 81 Mbps 83 Mbps  82 Mbps 86 Mbps  \n",
       " 408     - 0     - 0     - 0     - 0     - 0      - 0     - 0  \n",
       " 84      - 0     - 0     - 0     - 0     - 0      - 0     - 0  \n",
       " 130     - 0     - 0     - 0     - 0     - 0      - 0     - 0  \n",
       " 371     - 0     - 0     - 0     - 0     - 0      - 0     - 0  \n",
       " 22      - 0     - 0     - 0     - 0     - 0      - 0     - 0  \n",
       " \n",
       " [5 rows x 97 columns])"
      ]
     },
     "execution_count": 25,
     "metadata": {},
     "output_type": "execute_result"
    }
   ],
   "source": [
    "eda_general(url_11)"
   ]
  },
  {
   "attachments": {},
   "cell_type": "markdown",
   "metadata": {},
   "source": [
    "### Tabla 11\n",
    "- Hay datos nulos (registrados con un caracter de - 0)\n",
    "- No hay duplicados\n",
    "- El type de las columnas NO es correcto en varias de ellas\n",
    "- No tienen nombre de columnas estandarizados con respecto a las tablas 9 y 8\n",
    "\n",
    "-- NO SE SELECCIONA --"
   ]
  },
  {
   "cell_type": "code",
   "execution_count": 26,
   "metadata": {},
   "outputs": [
    {
     "data": {
      "text/plain": [
       "'No hay duplicados'"
      ]
     },
     "execution_count": 26,
     "metadata": {},
     "output_type": "execute_result"
    }
   ],
   "source": [
    "eda_duplicados(url_12)"
   ]
  },
  {
   "cell_type": "code",
   "execution_count": 27,
   "metadata": {},
   "outputs": [
    {
     "name": "stdout",
     "output_type": "stream",
     "text": [
      "<class 'pandas.core.frame.DataFrame'>\n",
      "RangeIndex: 33 entries, 0 to 32\n",
      "Data columns (total 4 columns):\n",
      " #   Column                     Non-Null Count  Dtype \n",
      "---  ------                     --------------  ----- \n",
      " 0   Año                        33 non-null     int64 \n",
      " 1   Trimestre                  33 non-null     int64 \n",
      " 2   Ingresos (miles de pesos)  33 non-null     object\n",
      " 3   Periodo                    33 non-null     object\n",
      "dtypes: int64(2), object(2)\n",
      "memory usage: 1.2+ KB\n"
     ]
    },
    {
     "data": {
      "text/plain": [
       "(    Año  Trimestre Ingresos (miles de pesos)        Periodo\n",
       " 0  2022          1                51.432.896   Ene-Mar 2022\n",
       " 1  2021          4                45.467.887   Oct-Dic 2021\n",
       " 2  2021          3                42.999.944  Jul-Sept 2021\n",
       " 3  2021          2                38.239.667   Abr-Jun 2021\n",
       " 4  2021          1                36.676.371   Ene-Mar 2021,\n",
       " Año                           int64\n",
       " Trimestre                     int64\n",
       " Ingresos (miles de pesos)    object\n",
       " Periodo                      object\n",
       " dtype: object,\n",
       " None,\n",
       "                Año  Trimestre\n",
       " count    33.000000  33.000000\n",
       " mean   2017.636364   2.454545\n",
       " std       2.421495   1.148121\n",
       " min    2014.000000   1.000000\n",
       " 25%    2016.000000   1.000000\n",
       " 50%    2018.000000   2.000000\n",
       " 75%    2020.000000   3.000000\n",
       " max    2022.000000   4.000000,\n",
       "      Año  Trimestre Ingresos (miles de pesos)        Periodo\n",
       " 19  2017          2                 9.678.647   Abr-Jun 2017\n",
       " 9   2019          4                24.169.251   Oct-Dic 2019\n",
       " 8   2020          1                29.946.216   Ene-Mar 2020\n",
       " 18  2017          3                10.065.998  Jul-Sept 2017\n",
       " 1   2021          4                45.467.887   Oct-Dic 2021)"
      ]
     },
     "execution_count": 27,
     "metadata": {},
     "output_type": "execute_result"
    }
   ],
   "source": [
    "eda_general(url_12)"
   ]
  },
  {
   "attachments": {},
   "cell_type": "markdown",
   "metadata": {},
   "source": [
    "### Tabla 12\n",
    "\n",
    "- No hay datos nulos\n",
    "- No hay duplicados\n",
    "- El type de las columnas NO es correcto en varias de ellas\n",
    "\n",
    "-- SE SELECCIONA -- se deben corregir los formatos de las columnas "
   ]
  },
  {
   "cell_type": "code",
   "execution_count": 28,
   "metadata": {},
   "outputs": [
    {
     "data": {
      "text/plain": [
       "'No hay duplicados'"
      ]
     },
     "execution_count": 28,
     "metadata": {},
     "output_type": "execute_result"
    }
   ],
   "source": [
    "eda_duplicados(url_13)"
   ]
  },
  {
   "cell_type": "code",
   "execution_count": 29,
   "metadata": {},
   "outputs": [
    {
     "name": "stdout",
     "output_type": "stream",
     "text": [
      "<class 'pandas.core.frame.DataFrame'>\n",
      "RangeIndex: 3086 entries, 0 to 3085\n",
      "Data columns (total 83 columns):\n",
      " #   Column      Non-Null Count  Dtype  \n",
      "---  ------      --------------  -----  \n",
      " 0   Provincia   3086 non-null   object \n",
      " 1   Partido     3086 non-null   object \n",
      " 2   Localidad   3086 non-null   object \n",
      " 3   Link Indec  3086 non-null   object \n",
      " 4   Otros       959 non-null    float64\n",
      " 5   0,256 Mbps  29 non-null     float64\n",
      " 6   0,375 Mbps  1 non-null      float64\n",
      " 7   0,5 Mbps    669 non-null    float64\n",
      " 8   0,512 Mbps  524 non-null    float64\n",
      " 9   0,625 Mbps  1 non-null      float64\n",
      " 10  0,75 Mbps   316 non-null    float64\n",
      " 11  1 Mbps      948 non-null    float64\n",
      " 12  1,25 Mbps   1 non-null      float64\n",
      " 13  1,5 Mbps    16 non-null     float64\n",
      " 14  2 Mbps      768 non-null    float64\n",
      " 15  2,2 Mbps    1 non-null      float64\n",
      " 16  2,5 Mbps    3 non-null      float64\n",
      " 17  3 Mbps      1374 non-null   float64\n",
      " 18  3,3 Mbps    1 non-null      float64\n",
      " 19  3,5 Mbps    383 non-null    float64\n",
      " 20  4 Mbps      542 non-null    float64\n",
      " 21  4,5 Mbps    1 non-null      float64\n",
      " 22  5 Mbps      990 non-null    float64\n",
      " 23  6 Mbps      1451 non-null   float64\n",
      " 24  6,4 Mbps    1 non-null      float64\n",
      " 25  7 Mbps      263 non-null    float64\n",
      " 26  7,5 Mbps    4 non-null      float64\n",
      " 27  8 Mbps      678 non-null    float64\n",
      " 28  9 Mbps      52 non-null     float64\n",
      " 29  10 Mbps     1660 non-null   float64\n",
      " 30  11 Mbps     27 non-null     float64\n",
      " 31  12 Mbps     512 non-null    float64\n",
      " 32  13 Mbps     15 non-null     float64\n",
      " 33  14 Mbps     20 non-null     float64\n",
      " 34  15 Mbps     1008 non-null   float64\n",
      " 35  16 Mbps     18 non-null     float64\n",
      " 36  17 Mbps     1 non-null      float64\n",
      " 37  18 Mbps     232 non-null    float64\n",
      " 38  19 Mbps     1 non-null      float64\n",
      " 39  20 Mbps     947 non-null    float64\n",
      " 40  21 Mbps     4 non-null      float64\n",
      " 41  22 Mbps     1 non-null      float64\n",
      " 42  23 Mbps     2 non-null      float64\n",
      " 43  24 Mbps     13 non-null     float64\n",
      " 44  25 Mbps     584 non-null    float64\n",
      " 45  25,1 Mbps   1 non-null      float64\n",
      " 46  25,11 Mbps  1 non-null      float64\n",
      " 47  25,5 Mbps   1 non-null      float64\n",
      " 48  26 Mbps     2 non-null      float64\n",
      " 49  30 Mbps     736 non-null    float64\n",
      " 50  31 Mbps     4 non-null      float64\n",
      " 51  32 Mbps     2 non-null      float64\n",
      " 52  34 Mbps     1 non-null      float64\n",
      " 53  35 Mbps     11 non-null     float64\n",
      " 54  36 Mbps     2 non-null      float64\n",
      " 55  38 Mbps     1 non-null      float64\n",
      " 56  39 Mbps     1 non-null      float64\n",
      " 57  40 Mbps     89 non-null     float64\n",
      " 58  41 Mbps     1 non-null      float64\n",
      " 59  45 Mbps     3 non-null      float64\n",
      " 60  46 Mbps     1 non-null      float64\n",
      " 61  49 Mbps     1 non-null      float64\n",
      " 62  50 Mbps     611 non-null    float64\n",
      " 63  55 Mbps     4 non-null      float64\n",
      " 64  58 Mbps     1 non-null      float64\n",
      " 65  59 Mbps     1 non-null      float64\n",
      " 66  60 Mbps     255 non-null    float64\n",
      " 67  61 Mbps     3 non-null      float64\n",
      " 68  62 Mbps     1 non-null      float64\n",
      " 69  64 Mbps     1 non-null      float64\n",
      " 70  65 Mbps     2 non-null      float64\n",
      " 71  66 Mbps     1 non-null      float64\n",
      " 72  70 Mbps     10 non-null     float64\n",
      " 73  75 Mbps     225 non-null    float64\n",
      " 74  78 Mbps     1 non-null      float64\n",
      " 75  80 Mbps     11 non-null     float64\n",
      " 76  82 Mbps     1 non-null      float64\n",
      " 77  83 Mbps     1 non-null      float64\n",
      " 78  85 Mbps     1 non-null      float64\n",
      " 79  90 Mbps     2 non-null      float64\n",
      " 80  92 Mbps     2 non-null      float64\n",
      " 81  95 Mbps     1 non-null      float64\n",
      " 82  100 Mbps    542 non-null    float64\n",
      "dtypes: float64(79), object(4)\n",
      "memory usage: 2.0+ MB\n"
     ]
    },
    {
     "data": {
      "text/plain": [
       "(      Provincia     Partido          Localidad Link Indec  Otros  0,256 Mbps  \\\n",
       " 0  BUENOS AIRES  25 de Mayo         25 de Mayo    6854100    NaN         NaN   \n",
       " 1  BUENOS AIRES  25 de Mayo    Agustín Mosconi    6854010    NaN         NaN   \n",
       " 2  BUENOS AIRES  25 de Mayo          Del Valle    6854020    NaN         NaN   \n",
       " 3  BUENOS AIRES  25 de Mayo          Ernestina    6854030    NaN         NaN   \n",
       " 4  BUENOS AIRES  25 de Mayo  Gobernador Ugarte    6854040    NaN         NaN   \n",
       " \n",
       "    0,375 Mbps  0,5 Mbps  0,512 Mbps  0,625 Mbps  ...  75 Mbps  78 Mbps  \\\n",
       " 0         NaN       2.0         NaN         NaN  ...      NaN      NaN   \n",
       " 1         NaN       NaN         NaN         NaN  ...      NaN      NaN   \n",
       " 2         NaN       1.0         NaN         NaN  ...      NaN      NaN   \n",
       " 3         NaN       NaN         NaN         NaN  ...      NaN      NaN   \n",
       " 4         NaN       NaN         NaN         NaN  ...      NaN      NaN   \n",
       " \n",
       "    80 Mbps  82 Mbps  83 Mbps  85 Mbps  90 Mbps  92 Mbps  95 Mbps  100 Mbps  \n",
       " 0      9.0      NaN      NaN      NaN      NaN      NaN      NaN       NaN  \n",
       " 1      NaN      NaN      NaN      NaN      NaN      NaN      NaN       NaN  \n",
       " 2      NaN      NaN      NaN      NaN      NaN      NaN      NaN       NaN  \n",
       " 3      NaN      NaN      NaN      NaN      NaN      NaN      NaN       NaN  \n",
       " 4      NaN      NaN      NaN      NaN      NaN      NaN      NaN       NaN  \n",
       " \n",
       " [5 rows x 83 columns],\n",
       " Provincia      object\n",
       " Partido        object\n",
       " Localidad      object\n",
       " Link Indec     object\n",
       " Otros         float64\n",
       "                ...   \n",
       " 85 Mbps       float64\n",
       " 90 Mbps       float64\n",
       " 92 Mbps       float64\n",
       " 95 Mbps       float64\n",
       " 100 Mbps      float64\n",
       " Length: 83, dtype: object,\n",
       " None,\n",
       "               Otros  0,256 Mbps  0,375 Mbps      0,5 Mbps  0,512 Mbps  \\\n",
       " count    959.000000   29.000000         1.0    669.000000  524.000000   \n",
       " mean     206.812304    3.379310       225.0     49.967115    2.173664   \n",
       " std     1012.412849    6.411005         NaN   1173.906920    4.822112   \n",
       " min     -448.000000    1.000000       225.0      0.000000    1.000000   \n",
       " 25%        1.000000    1.000000       225.0      1.000000    1.000000   \n",
       " 50%        5.000000    1.000000       225.0      1.000000    1.000000   \n",
       " 75%       56.000000    3.000000       225.0      3.000000    1.000000   \n",
       " max    14756.000000   31.000000       225.0  30362.000000   61.000000   \n",
       " \n",
       "        0,625 Mbps    0,75 Mbps       1 Mbps  1,25 Mbps     1,5 Mbps  ...  \\\n",
       " count         1.0   316.000000   948.000000        1.0    16.000000  ...   \n",
       " mean        111.0    45.354430    95.355485       25.0   137.375000  ...   \n",
       " std           NaN   129.950153   357.629473        NaN   288.767005  ...   \n",
       " min         111.0     1.000000     1.000000       25.0     2.000000  ...   \n",
       " 25%         111.0     2.750000     3.000000       25.0    21.750000  ...   \n",
       " 50%         111.0    11.000000    14.000000       25.0    44.500000  ...   \n",
       " 75%         111.0    31.000000    58.250000       25.0    70.500000  ...   \n",
       " max         111.0  1407.000000  6307.000000       25.0  1170.000000  ...   \n",
       " \n",
       "             75 Mbps  78 Mbps     80 Mbps  82 Mbps  83 Mbps  85 Mbps   90 Mbps  \\\n",
       " count    225.000000      1.0   11.000000      1.0      1.0      1.0  2.000000   \n",
       " mean     589.711111      4.0  171.363636      1.0      2.0     14.0  2.000000   \n",
       " std     2160.159221      NaN  321.165463      NaN      NaN      NaN  1.414214   \n",
       " min        1.000000      4.0    3.000000      1.0      2.0     14.0  1.000000   \n",
       " 25%       89.000000      4.0    6.000000      1.0      2.0     14.0  1.500000   \n",
       " 50%      294.000000      4.0   24.000000      1.0      2.0     14.0  2.000000   \n",
       " 75%      536.000000      4.0   96.500000      1.0      2.0     14.0  2.500000   \n",
       " max    31684.000000      4.0  952.000000      1.0      2.0     14.0  3.000000   \n",
       " \n",
       "         92 Mbps  95 Mbps       100 Mbps  \n",
       " count  2.000000      1.0     542.000000  \n",
       " mean   3.000000      1.0    3520.094096  \n",
       " std    1.414214      NaN   19758.208339  \n",
       " min    2.000000      1.0       0.000000  \n",
       " 25%    2.500000      1.0      53.000000  \n",
       " 50%    3.000000      1.0     778.000000  \n",
       " 75%    3.500000      1.0    2725.500000  \n",
       " max    4.000000      1.0  427452.000000  \n",
       " \n",
       " [8 rows x 79 columns],\n",
       "                 Provincia     Partido      Localidad Link Indec  Otros  \\\n",
       " 2264                SALTA       Iruya  Isla de Cañas   66070020    NaN   \n",
       " 3009  SANTIAGO DEL ESTERO    Silípica  Nueva Francia   86189020    NaN   \n",
       " 2884  SANTIAGO DEL ESTERO  Avellaneda   Colonia Dora   86028010    NaN   \n",
       " 1531              FORMOSA      Laishi      Herradura   34021030    NaN   \n",
       " 1508           ENTRE RIOS   Villaguay        Jubileo   30113030    NaN   \n",
       " \n",
       "       0,256 Mbps  0,375 Mbps  0,5 Mbps  0,512 Mbps  0,625 Mbps  ...  75 Mbps  \\\n",
       " 2264         NaN         NaN       NaN         NaN         NaN  ...      NaN   \n",
       " 3009         NaN         NaN       NaN         1.0         NaN  ...      NaN   \n",
       " 2884         NaN         NaN       1.0         1.0         NaN  ...      NaN   \n",
       " 1531         NaN         NaN       NaN         NaN         NaN  ...      NaN   \n",
       " 1508         NaN         NaN       NaN         NaN         NaN  ...      NaN   \n",
       " \n",
       "       78 Mbps  80 Mbps  82 Mbps  83 Mbps  85 Mbps  90 Mbps  92 Mbps  95 Mbps  \\\n",
       " 2264      NaN      NaN      NaN      NaN      NaN      NaN      NaN      NaN   \n",
       " 3009      NaN      NaN      NaN      NaN      NaN      NaN      NaN      NaN   \n",
       " 2884      NaN      NaN      NaN      NaN      NaN      NaN      NaN      NaN   \n",
       " 1531      NaN      NaN      NaN      NaN      NaN      NaN      NaN      NaN   \n",
       " 1508      NaN      NaN      NaN      NaN      NaN      NaN      NaN      NaN   \n",
       " \n",
       "       100 Mbps  \n",
       " 2264       NaN  \n",
       " 3009       NaN  \n",
       " 2884       1.0  \n",
       " 1531       NaN  \n",
       " 1508       NaN  \n",
       " \n",
       " [5 rows x 83 columns])"
      ]
     },
     "execution_count": 29,
     "metadata": {},
     "output_type": "execute_result"
    }
   ],
   "source": [
    "eda_general(url_13)"
   ]
  },
  {
   "attachments": {},
   "cell_type": "markdown",
   "metadata": {},
   "source": [
    "### Tabla 13\n",
    "\n",
    "- Hay datos nulos\n",
    "- No hay duplicados\n",
    "- El type de las columnas NO es correcto en varias de ellas\n",
    "\n",
    "-- NO SE SELECCIONA -- "
   ]
  },
  {
   "cell_type": "code",
   "execution_count": 30,
   "metadata": {},
   "outputs": [
    {
     "data": {
      "text/plain": [
       "'No hay duplicados'"
      ]
     },
     "execution_count": 30,
     "metadata": {},
     "output_type": "execute_result"
    }
   ],
   "source": [
    "eda_duplicados(url_14)"
   ]
  },
  {
   "cell_type": "code",
   "execution_count": 31,
   "metadata": {},
   "outputs": [
    {
     "name": "stdout",
     "output_type": "stream",
     "text": [
      "<class 'pandas.core.frame.DataFrame'>\n",
      "RangeIndex: 3127 entries, 0 to 3126\n",
      "Data columns (total 14 columns):\n",
      " #   Column         Non-Null Count  Dtype  \n",
      "---  ------         --------------  -----  \n",
      " 0   Provincia      3127 non-null   object \n",
      " 1   Partido        3127 non-null   object \n",
      " 2   Localidad      3127 non-null   object \n",
      " 3   Link Indec     3127 non-null   object \n",
      " 4   ADSL           3127 non-null   object \n",
      " 5   CABLEMODEM     3127 non-null   object \n",
      " 6   DIAL UP        3127 non-null   object \n",
      " 7   FIBRA OPTICA   3127 non-null   object \n",
      " 8   OTROS          3127 non-null   object \n",
      " 9   SATELITAL      3127 non-null   object \n",
      " 10  WIMAX          3127 non-null   object \n",
      " 11  WIRELESS       3127 non-null   object \n",
      " 12  Total general  3127 non-null   object \n",
      " 13  Unnamed: 13    0 non-null      float64\n",
      "dtypes: float64(1), object(13)\n",
      "memory usage: 342.1+ KB\n"
     ]
    },
    {
     "data": {
      "text/plain": [
       "(      Provincia     Partido               Localidad Link Indec ADSL  \\\n",
       " 0  BUENOS AIRES  25 de Mayo              25 de Mayo    6854100  914   \n",
       " 1  BUENOS AIRES  25 de Mayo               Del Valle    6854020  181   \n",
       " 2  BUENOS AIRES  25 de Mayo       Gobernador Ugarte    6854040  - 0   \n",
       " 3  BUENOS AIRES  25 de Mayo  Norberto de la Riestra    6854060  - 0   \n",
       " 4  BUENOS AIRES  25 de Mayo        Lucas Monteverde    6854050  - 0   \n",
       " \n",
       "   CABLEMODEM DIAL UP FIBRA OPTICA OTROS SATELITAL WIMAX WIRELESS  \\\n",
       " 0      4.704     - 0            5   - 0       975   - 0      664   \n",
       " 1        - 0     - 0          - 0    10         1   - 0      - 0   \n",
       " 2        - 0     - 0          - 0   - 0       - 0   - 0      181   \n",
       " 3        782     - 0          - 0    18       - 0   - 0      327   \n",
       " 4        - 0     - 0          - 0   - 0       - 0   - 0        6   \n",
       " \n",
       "   Total general  Unnamed: 13  \n",
       " 0         7.262          NaN  \n",
       " 1           192          NaN  \n",
       " 2           181          NaN  \n",
       " 3         1.127          NaN  \n",
       " 4             6          NaN  ,\n",
       " Provincia         object\n",
       " Partido           object\n",
       " Localidad         object\n",
       " Link Indec        object\n",
       " ADSL              object\n",
       " CABLEMODEM        object\n",
       " DIAL UP           object\n",
       " FIBRA OPTICA      object\n",
       " OTROS             object\n",
       " SATELITAL         object\n",
       " WIMAX             object\n",
       " WIRELESS          object\n",
       " Total general     object\n",
       " Unnamed: 13      float64\n",
       " dtype: object,\n",
       " None,\n",
       "        Unnamed: 13\n",
       " count          0.0\n",
       " mean           NaN\n",
       " std            NaN\n",
       " min            NaN\n",
       " 25%            NaN\n",
       " 50%            NaN\n",
       " 75%            NaN\n",
       " max            NaN,\n",
       "          Provincia         Partido           Localidad Link Indec   ADSL  \\\n",
       " 1277       CORDOBA  Tercero Arriba         Río Tercero   14161150  1.176   \n",
       " 1573       FORMOSA         Pilagás        Tres Lagunas   34042060     25   \n",
       " 2280         SALTA       Cerrillos  Barrio Los Pinares  Sin datos    130   \n",
       " 449   BUENOS AIRES    Mar Chiquita       Coronel Vidal    6518010      3   \n",
       " 1701      LA PAMPA      Chapaleufú   Intendente Alvear   42056040     83   \n",
       " \n",
       "      CABLEMODEM DIAL UP FIBRA OPTICA OTROS SATELITAL WIMAX WIRELESS  \\\n",
       " 1277      8.520     - 0       10.003   - 0         1   - 0    1.168   \n",
       " 1573        - 0     - 0          - 0   - 0       - 0   - 0       97   \n",
       " 2280        - 0     - 0           34   - 0       - 0   - 0       41   \n",
       " 449       1.508     - 0          242   - 0       - 0   - 0      165   \n",
       " 1701        613       1          209     1         2   - 0      556   \n",
       " \n",
       "      Total general  Unnamed: 13  \n",
       " 1277        20.868          NaN  \n",
       " 1573           122          NaN  \n",
       " 2280           205          NaN  \n",
       " 449          1.918          NaN  \n",
       " 1701         1.465          NaN  )"
      ]
     },
     "execution_count": 31,
     "metadata": {},
     "output_type": "execute_result"
    }
   ],
   "source": [
    "eda_general(url_14)"
   ]
  },
  {
   "attachments": {},
   "cell_type": "markdown",
   "metadata": {},
   "source": [
    "### Tabla 14\n",
    "- tiene una columna vacía al final\n",
    "- Hay datos nulos en formato (- 0)\n",
    "- No hay duplicados\n",
    "- El type de las columnas NO es correcto en varias de ellas\n",
    "\n",
    "-- SE SELECCIONA -- se deben corregir los formatos de las columnas"
   ]
  },
  {
   "cell_type": "code",
   "execution_count": 32,
   "metadata": {},
   "outputs": [
    {
     "data": {
      "text/plain": [
       "('hay un total de', 24, 'datos y un total de registros duplicados de', 2)"
      ]
     },
     "execution_count": 32,
     "metadata": {},
     "output_type": "execute_result"
    }
   ],
   "source": [
    "eda_duplicados(url_15)"
   ]
  },
  {
   "cell_type": "code",
   "execution_count": 33,
   "metadata": {},
   "outputs": [
    {
     "name": "stdout",
     "output_type": "stream",
     "text": [
      "<class 'pandas.core.frame.DataFrame'>\n",
      "RangeIndex: 4312 entries, 0 to 4311\n",
      "Data columns (total 12 columns):\n",
      " #   Column         Non-Null Count  Dtype \n",
      "---  ------         --------------  ----- \n",
      " 0   Provincia      4312 non-null   object\n",
      " 1   Partido        4312 non-null   object\n",
      " 2   Localidad      4312 non-null   object\n",
      " 3   ADSL           4312 non-null   object\n",
      " 4   CABLEMODEM     4312 non-null   object\n",
      " 5   DIALUP         4312 non-null   object\n",
      " 6   FIBRAOPTICA    4312 non-null   object\n",
      " 7   4G             4312 non-null   object\n",
      " 8   3G             4312 non-null   object\n",
      " 9   TELEFONIAFIJA  4312 non-null   object\n",
      " 10  WIRELESS       4312 non-null   object\n",
      " 11  SATELITAL      4312 non-null   object\n",
      "dtypes: object(12)\n",
      "memory usage: 404.4+ KB\n"
     ]
    },
    {
     "data": {
      "text/plain": [
       "(      Provincia     Partido          Localidad ADSL CABLEMODEM DIALUP  \\\n",
       " 0  BUENOS AIRES  25 de Mayo         25 de Mayo   SI         SI     --   \n",
       " 1  BUENOS AIRES  25 de Mayo    Agustín Mosconi   --         --     --   \n",
       " 2  BUENOS AIRES  25 de Mayo          Del Valle   SI         --     --   \n",
       " 3  BUENOS AIRES  25 de Mayo          Ernestina   SI         --     --   \n",
       " 4  BUENOS AIRES  25 de Mayo  Gobernador Ugarte   --         --     --   \n",
       " \n",
       "   FIBRAOPTICA  4G  3G TELEFONIAFIJA WIRELESS SATELITAL  \n",
       " 0          SI  SI  SI            SI       SI        SI  \n",
       " 1          --  --  --            SI       --        --  \n",
       " 2          --  SI  SI            --       --        SI  \n",
       " 3          --  --  --            --       --        --  \n",
       " 4          --  --  --            --       SI        --  ,\n",
       " Provincia        object\n",
       " Partido          object\n",
       " Localidad        object\n",
       " ADSL             object\n",
       " CABLEMODEM       object\n",
       " DIALUP           object\n",
       " FIBRAOPTICA      object\n",
       " 4G               object\n",
       " 3G               object\n",
       " TELEFONIAFIJA    object\n",
       " WIRELESS         object\n",
       " SATELITAL        object\n",
       " dtype: object,\n",
       " None,\n",
       "            Provincia       Partido  Localidad  ADSL CABLEMODEM DIALUP  \\\n",
       " count           4312          4312       4312  4312       4312   4312   \n",
       " unique            24           444       3912     2          2      2   \n",
       " top     BUENOS AIRES  General Roca  San Pedro    --         --     --   \n",
       " freq             901            85         12  3163       3461   3916   \n",
       " \n",
       "        FIBRAOPTICA    4G    3G TELEFONIAFIJA WIRELESS SATELITAL  \n",
       " count         4312  4312  4312          4312     4312      4312  \n",
       " unique           2     2     2             2        2         2  \n",
       " top             --    SI    --            --       --        --  \n",
       " freq          2991  2574  2432          2226     2167      3314  ,\n",
       "       Provincia     Partido        Localidad ADSL CABLEMODEM DIALUP  \\\n",
       " 1539    TUCUMAN   Cruz Alta       San Andrés   SI         --     --   \n",
       " 3650   SANTA FE     Rosario  Cuatro Esquinas   --         --     --   \n",
       " 1728      SALTA       Iruya     Pueblo Viejo   --         --     --   \n",
       " 549    SANTA FE  9 de Julio    Villa Minetti   --         --     --   \n",
       " 514   CATAMARCA       Belén      La Puntilla   --         --     --   \n",
       " \n",
       "      FIBRAOPTICA  4G  3G TELEFONIAFIJA WIRELESS SATELITAL  \n",
       " 1539          SI  SI  --            SI       --        --  \n",
       " 3650          SI  --  --            --       --        --  \n",
       " 1728          SI  --  --            --       --        --  \n",
       " 549           --  SI  SI            SI       SI        SI  \n",
       " 514           --  --  --            --       --        --  )"
      ]
     },
     "execution_count": 33,
     "metadata": {},
     "output_type": "execute_result"
    }
   ],
   "source": [
    "eda_general(url_15)"
   ]
  },
  {
   "attachments": {},
   "cell_type": "markdown",
   "metadata": {},
   "source": [
    "### Tabla 15\n",
    "\n",
    "\n",
    "- Hay datos nulos en formato (- 0)\n",
    "- Hay 2 registros duplicados\n",
    "- El type de las columnas NO es correcto en varias de ellas\n",
    "\n",
    "-- SE SELECCIONA -- se deben corregir los formatos de las columnas"
   ]
  },
  {
   "cell_type": "code",
   "execution_count": 34,
   "metadata": {},
   "outputs": [
    {
     "data": {
      "text/plain": [
       "'No hay duplicados'"
      ]
     },
     "execution_count": 34,
     "metadata": {},
     "output_type": "execute_result"
    }
   ],
   "source": [
    "eda_duplicados(url_16)"
   ]
  },
  {
   "cell_type": "code",
   "execution_count": 35,
   "metadata": {},
   "outputs": [
    {
     "name": "stdout",
     "output_type": "stream",
     "text": [
      "<class 'pandas.core.frame.DataFrame'>\n",
      "RangeIndex: 4312 entries, 0 to 4311\n",
      "Data columns (total 16 columns):\n",
      " #   Column         Non-Null Count  Dtype  \n",
      "---  ------         --------------  -----  \n",
      " 0   Provincia      4312 non-null   object \n",
      " 1   Partido        4312 non-null   object \n",
      " 2   Localidad      4312 non-null   object \n",
      " 3   Poblacion      4312 non-null   int64  \n",
      " 4   ADSL           4312 non-null   object \n",
      " 5   CABLEMODEM     4312 non-null   object \n",
      " 6   DIALUP         4312 non-null   object \n",
      " 7   FIBRAOPTICA    4312 non-null   object \n",
      " 8   SATELITAL      4312 non-null   object \n",
      " 9   WIRELESS       4312 non-null   object \n",
      " 10  TELEFONIAFIJA  4312 non-null   object \n",
      " 11  3G             4312 non-null   object \n",
      " 12  4G             4312 non-null   object \n",
      " 13  link           3836 non-null   float64\n",
      " 14  Latitud        4312 non-null   object \n",
      " 15  Longitud       4312 non-null   object \n",
      "dtypes: float64(1), int64(1), object(14)\n",
      "memory usage: 539.1+ KB\n"
     ]
    },
    {
     "data": {
      "text/plain": [
       "(      Provincia     Partido          Localidad  Poblacion ADSL CABLEMODEM  \\\n",
       " 0  BUENOS AIRES  25 de Mayo         25 de Mayo      23408   SI         SI   \n",
       " 1  BUENOS AIRES  25 de Mayo    Agustín Mosconi        280   --         --   \n",
       " 2  BUENOS AIRES  25 de Mayo          Del Valle        899   SI         --   \n",
       " 3  BUENOS AIRES  25 de Mayo          Ernestina        145   SI         --   \n",
       " 4  BUENOS AIRES  25 de Mayo  Gobernador Ugarte        547   --         --   \n",
       " \n",
       "   DIALUP FIBRAOPTICA SATELITAL WIRELESS TELEFONIAFIJA  3G  4G       link  \\\n",
       " 0     --          SI        SI       SI            SI  SI  SI  6854100.0   \n",
       " 1     --          --        --       --            SI  --  --  6854010.0   \n",
       " 2     --          --        SI       --            --  SI  SI  6854020.0   \n",
       " 3     --          --        --       --            --  --  --  6854030.0   \n",
       " 4     --          --        --       SI            --  --  --  6854040.0   \n",
       " \n",
       "              Latitud           Longitud  \n",
       " 0  -35.4339385892588  -60.1731209454056  \n",
       " 1  -35.7392169542026  -60.5590634621789  \n",
       " 2  -35.8973453887603  -60.7316089512944  \n",
       " 3  -35.2702340519789  -59.5575034078873  \n",
       " 4  -35.1643973648093  -60.0813577815069  ,\n",
       " Provincia         object\n",
       " Partido           object\n",
       " Localidad         object\n",
       " Poblacion          int64\n",
       " ADSL              object\n",
       " CABLEMODEM        object\n",
       " DIALUP            object\n",
       " FIBRAOPTICA       object\n",
       " SATELITAL         object\n",
       " WIRELESS          object\n",
       " TELEFONIAFIJA     object\n",
       " 3G                object\n",
       " 4G                object\n",
       " link             float64\n",
       " Latitud           object\n",
       " Longitud          object\n",
       " dtype: object,\n",
       " None,\n",
       "           Poblacion          link\n",
       " count  4.312000e+03  3.836000e+03\n",
       " mean   8.693093e+03  3.793547e+07\n",
       " std    3.821544e+04  2.942911e+07\n",
       " min    0.000000e+00  2.000010e+06\n",
       " 25%    1.160000e+02  1.005604e+07\n",
       " 50%    5.755000e+02  3.008406e+07\n",
       " 75%    3.202000e+03  6.600887e+07\n",
       " max    1.317298e+06  9.401402e+07,\n",
       "                 Provincia             Partido        Localidad  Poblacion  \\\n",
       " 2378                CHACO            Tapenagá        La Sabana        242   \n",
       " 3966         BUENOS AIRES     Tres De Febrero  Jose Ingenieros       7300   \n",
       " 646             RIO NEGRO          Pilcaniyeu    Laguna Blanca        102   \n",
       " 464   SANTIAGO DEL ESTERO     General Taboada          Averías        371   \n",
       " 2609              CORDOBA  General San Martín    Arroyo Cabral       2654   \n",
       " \n",
       "      ADSL CABLEMODEM DIALUP FIBRAOPTICA SATELITAL WIRELESS TELEFONIAFIJA  3G  \\\n",
       " 2378   --         --     --          --        --       --            --  --   \n",
       " 3966   SI         SI     --          SI        --       SI            SI  SI   \n",
       " 646    --         --     --          SI        --       --            --  --   \n",
       " 464    --         --     --          --        --       SI            --  --   \n",
       " 2609   SI         SI     --          SI        SI       SI            SI  SI   \n",
       " \n",
       "       4G        link            Latitud           Longitud  \n",
       " 2378  --  22161050.0  -27.8738009106984   -59.939569589112  \n",
       " 3966  SI   6840010.0  -34.6171528691842  -58.5342186326877  \n",
       " 646   --  62070030.0  -40.7925954846977  -69.8810399581108  \n",
       " 464   --  86077020.0   -28.741220514431  -62.3821980617677  \n",
       " 2609  SI  14042020.0  -32.4889824965456  -63.4014794487713  )"
      ]
     },
     "execution_count": 35,
     "metadata": {},
     "output_type": "execute_result"
    }
   ],
   "source": [
    "eda_general(url_16)"
   ]
  },
  {
   "attachments": {},
   "cell_type": "markdown",
   "metadata": {},
   "source": [
    "### Tabla 16\n",
    "\n",
    "- Hay varios datos nulos y otros en formato '--'\n",
    "- No Hay registros duplicados\n",
    "- El type de las columnas NO es correcto en varias de ellas\n",
    "\n",
    "-- NO SE SELECCIONA --"
   ]
  },
  {
   "attachments": {},
   "cell_type": "markdown",
   "metadata": {},
   "source": [
    "## Análisis por grafico sobre las seleccionadas\n",
    "Tambien se analiza, por medio del comando unique, chequeo que no hay valores mal escritos o espacios entre los datos, que deban corregirse o unificar. \n",
    "- Tablas: 1, 4, 6, 8, 10 y 12\n",
    "\n",
    "Se realizan: \n",
    "\n",
    "- Hitogramas _ distribución de la variable\n",
    "- Box Plot _ análisis de outliers\n",
    "- Heatmap _ correlación \n"
   ]
  },
  {
   "cell_type": "code",
   "execution_count": 36,
   "metadata": {},
   "outputs": [],
   "source": [
    "def eda_histogramas(url):\n",
    "    df=pd.read_csv(url, decimal=',')\n",
    "    \n",
    "    lista_columnas=list(df.columns)\n",
    "    \n",
    "\n",
    "    for i in lista_columnas: \n",
    "    ## seguir acá con nombres\n",
    "        if i=='Partido' or i=='Provincia' or i=='Localidad' or i=='año' or i=='Año' or i=='Trimestre' or i=='Periodo': \n",
    "            continue\n",
    "\n",
    "        if i=='Banda ancha fija' or i=='Dial up' or i=='Total'  or i=='Wireless'or i=='\tWireless' or i=='Fibra óptica' or i=='\tCablemodem' or i=='Cablemodem' or i=='ADSL':        \n",
    "            \n",
    "            df[i].astype(float)\n",
    "            return  sns.histplot(df[i],bins=10)\n",
    "        \n",
    "        if i=='Accesos por cada 100 hogares':\n",
    "\n",
    "            return  sns.histplot(df[i],bins=25)"
   ]
  },
  {
   "cell_type": "code",
   "execution_count": 37,
   "metadata": {},
   "outputs": [],
   "source": [
    "def eda_outliers(url):\n",
    "    df=pd.read_csv(url, decimal=',')\n",
    "    \n",
    "    lista_columnas=list(df.columns)\n",
    "\n",
    "    for i in lista_columnas: \n",
    "    ## seguir acá con nombres\n",
    "        if i=='Partido' or i=='Provincia' or i=='Localidad' or i=='año' or i=='Año' or i=='Trimestre' or i=='Periodo': \n",
    "            continue\n",
    "\n",
    "        if i=='Banda ancha fija' or i=='Dial up' or i=='Total' or i=='\tWireless' or i=='Fibra óptica' or i=='\tCablemodem' or i=='Cablemodem' or i=='ADSL':        \n",
    "            green_diamond = dict(markerfacecolor='g', marker='D')\n",
    "            fig1, ax1 = plt2.subplots()\n",
    "            ax1.set_title('Changed Outlier Symbols')\n",
    "\n",
    "            return ax1.boxplot(df[i], flierprops=green_diamond)\n",
    "        \n",
    "        if i=='Accesos por cada 100 hogares':\n",
    "\n",
    "            green_diamond = dict(markerfacecolor='g', marker='D')\n",
    "            fig2, ax2 = plt2.subplots()\n",
    "            ax2.set_title('Changed Outlier Symbols')\n",
    "            \n",
    "\n",
    "            return ax2.boxplot(df[i], flierprops=green_diamond) "
   ]
  },
  {
   "cell_type": "code",
   "execution_count": 38,
   "metadata": {},
   "outputs": [],
   "source": [
    "def eda_heatmap(url):\n",
    "    df=pd.read_csv(url, decimal=',')\n",
    "    corr=df.corr()\n",
    " \n",
    "    return sns.heatmap( corr, cbar = True,  square = False, annot=True, fmt= '.2f' ,annot_kws={'size': 15},cmap=sns.diverging_palette(20, 220, n=200))\n",
    "        "
   ]
  },
  {
   "cell_type": "code",
   "execution_count": 39,
   "metadata": {},
   "outputs": [
    {
     "data": {
      "text/plain": [
       "<AxesSubplot:xlabel='Accesos por cada 100 hogares', ylabel='Count'>"
      ]
     },
     "execution_count": 39,
     "metadata": {},
     "output_type": "execute_result"
    },
    {
     "data": {
      "image/png": "[encoded data removed]",
      "text/plain": [
       "<Figure size 432x288 with 1 Axes>"
      ]
     },
     "metadata": {
      "needs_background": "light"
     },
     "output_type": "display_data"
    }
   ],
   "source": [
    "eda_histogramas(url_1)"
   ]
  },
  {
   "cell_type": "code",
   "execution_count": 40,
   "metadata": {},
   "outputs": [
    {
     "data": {
      "text/plain": [
       "{'whiskers': [<matplotlib.lines.Line2D at 0x27fd51383a0>,\n",
       "  <matplotlib.lines.Line2D at 0x27fd5138670>],\n",
       " 'caps': [<matplotlib.lines.Line2D at 0x27fd5138940>,\n",
       "  <matplotlib.lines.Line2D at 0x27fd5138c10>],\n",
       " 'boxes': [<matplotlib.lines.Line2D at 0x27fd51380d0>],\n",
       " 'medians': [<matplotlib.lines.Line2D at 0x27fd5138ee0>],\n",
       " 'fliers': [<matplotlib.lines.Line2D at 0x27fd51391b0>],\n",
       " 'means': []}"
      ]
     },
     "execution_count": 40,
     "metadata": {},
     "output_type": "execute_result"
    },
    {
     "data": {
      "image/png": "[encoded data removed]",
      "text/plain": [
       "<Figure size 432x288 with 1 Axes>"
      ]
     },
     "metadata": {
      "needs_background": "light"
     },
     "output_type": "display_data"
    }
   ],
   "source": [
    "eda_outliers(url_1)"
   ]
  },
  {
   "attachments": {},
   "cell_type": "markdown",
   "metadata": {},
   "source": [
    "En cuanto a los outliers, en este caso no se sacan porque justamente interesa analizar porque hay más conexiones que hogares, lo que es desable para la empresa prestadora del servicio"
   ]
  },
  {
   "attachments": {},
   "cell_type": "markdown",
   "metadata": {},
   "source": [
    "En cuanto a los graficos, y visto que muchas columnas deben cambiarse de tipo de datoy limpiarlo antes de graficar, lo que de todos modos se repetirá en Power Bi"
   ]
  }
 ],
 "metadata": {
  "kernelspec": {
   "display_name": "Python 3",
   "language": "python",
   "name": "python3"
  },
  "language_info": {
   "codemirror_mode": {
    "name": "ipython",
    "version": 3
   },
   "file_extension": ".py",
   "mimetype": "text/x-python",
   "name": "python",
   "nbconvert_exporter": "python",
   "pygments_lexer": "ipython3",
   "version": "3.10.5 (tags/v3.10.5:f377153, Jun  6 2022, 16:14:13) [MSC v.1929 64 bit (AMD64)]"
  },
  "orig_nbformat": 4,
  "vscode": {
   "interpreter": {
    "hash": "224ab2d222d6361592e732ae4370fd24c01433554265009efbf5e366010cf436"
   }
  }
 },
 "nbformat": 4,
 "nbformat_minor": 2
}
